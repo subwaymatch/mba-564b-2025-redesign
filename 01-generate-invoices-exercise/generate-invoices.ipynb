{
 "cells": [
  {
   "cell_type": "markdown",
   "id": "71e99b14-16ab-4229-9a64-2a7c2de60cd3",
   "metadata": {},
   "source": [
    "# Generating Word invoices from a CSV file"
   ]
  },
  {
   "cell_type": "code",
   "execution_count": 1,
   "id": "6912856c-fb96-4a4a-9850-88c0c2135fbb",
   "metadata": {},
   "outputs": [
    {
     "name": "stdout",
     "output_type": "stream",
     "text": [
      "Invoice #: INV001\n"
     ]
    },
    {
     "data": {
      "text/html": [
       "<div>\n",
       "<style scoped>\n",
       "    .dataframe tbody tr th:only-of-type {\n",
       "        vertical-align: middle;\n",
       "    }\n",
       "\n",
       "    .dataframe tbody tr th {\n",
       "        vertical-align: top;\n",
       "    }\n",
       "\n",
       "    .dataframe thead th {\n",
       "        text-align: right;\n",
       "    }\n",
       "</style>\n",
       "<table border=\"1\" class=\"dataframe\">\n",
       "  <thead>\n",
       "    <tr style=\"text-align: right;\">\n",
       "      <th></th>\n",
       "      <th>Invoice Number</th>\n",
       "      <th>Date</th>\n",
       "      <th>Client Name</th>\n",
       "      <th>Item</th>\n",
       "      <th>Quantity</th>\n",
       "      <th>Unit Price</th>\n",
       "    </tr>\n",
       "  </thead>\n",
       "  <tbody>\n",
       "    <tr>\n",
       "      <th>0</th>\n",
       "      <td>INV001</td>\n",
       "      <td>2025-04-25</td>\n",
       "      <td>Acme Corp</td>\n",
       "      <td>Widget A</td>\n",
       "      <td>2</td>\n",
       "      <td>25.0</td>\n",
       "    </tr>\n",
       "    <tr>\n",
       "      <th>1</th>\n",
       "      <td>INV001</td>\n",
       "      <td>2025-04-25</td>\n",
       "      <td>Acme Corp</td>\n",
       "      <td>Widget B</td>\n",
       "      <td>1</td>\n",
       "      <td>40.0</td>\n",
       "    </tr>\n",
       "  </tbody>\n",
       "</table>\n",
       "</div>"
      ],
      "text/plain": [
       "  Invoice Number        Date Client Name      Item  Quantity  Unit Price\n",
       "0         INV001  2025-04-25   Acme Corp  Widget A         2        25.0\n",
       "1         INV001  2025-04-25   Acme Corp  Widget B         1        40.0"
      ]
     },
     "metadata": {},
     "output_type": "display_data"
    },
    {
     "name": "stdout",
     "output_type": "stream",
     "text": [
      "Invoice #: INV002\n"
     ]
    },
    {
     "data": {
      "text/html": [
       "<div>\n",
       "<style scoped>\n",
       "    .dataframe tbody tr th:only-of-type {\n",
       "        vertical-align: middle;\n",
       "    }\n",
       "\n",
       "    .dataframe tbody tr th {\n",
       "        vertical-align: top;\n",
       "    }\n",
       "\n",
       "    .dataframe thead th {\n",
       "        text-align: right;\n",
       "    }\n",
       "</style>\n",
       "<table border=\"1\" class=\"dataframe\">\n",
       "  <thead>\n",
       "    <tr style=\"text-align: right;\">\n",
       "      <th></th>\n",
       "      <th>Invoice Number</th>\n",
       "      <th>Date</th>\n",
       "      <th>Client Name</th>\n",
       "      <th>Item</th>\n",
       "      <th>Quantity</th>\n",
       "      <th>Unit Price</th>\n",
       "    </tr>\n",
       "  </thead>\n",
       "  <tbody>\n",
       "    <tr>\n",
       "      <th>2</th>\n",
       "      <td>INV002</td>\n",
       "      <td>2025-04-26</td>\n",
       "      <td>Beta LLC</td>\n",
       "      <td>Gadget A</td>\n",
       "      <td>5</td>\n",
       "      <td>15.0</td>\n",
       "    </tr>\n",
       "    <tr>\n",
       "      <th>3</th>\n",
       "      <td>INV002</td>\n",
       "      <td>2025-04-26</td>\n",
       "      <td>Beta LLC</td>\n",
       "      <td>Gadget B</td>\n",
       "      <td>2</td>\n",
       "      <td>30.0</td>\n",
       "    </tr>\n",
       "  </tbody>\n",
       "</table>\n",
       "</div>"
      ],
      "text/plain": [
       "  Invoice Number        Date Client Name      Item  Quantity  Unit Price\n",
       "2         INV002  2025-04-26    Beta LLC  Gadget A         5        15.0\n",
       "3         INV002  2025-04-26    Beta LLC  Gadget B         2        30.0"
      ]
     },
     "metadata": {},
     "output_type": "display_data"
    }
   ],
   "source": [
    "from docx import Document\n",
    "import pandas as pd\n",
    "from pathlib import Path\n",
    "\n",
    "# Configurable tax rate\n",
    "TAX_RATE = 10  # in percent\n",
    "\n",
    "# Load CSV data\n",
    "df = pd.read_csv(\"invoice_data.csv\")\n",
    "\n",
    "# Group by invoice number\n",
    "invoices = df.groupby(\"Invoice Number\")\n",
    "\n",
    "for invoice_number, items in invoices:\n",
    "    print(f\"Invoice #: {invoice_number}\")\n",
    "    display(items)"
   ]
  },
  {
   "cell_type": "markdown",
   "id": "3e3db93f-69ff-49dd-9899-b381b3abd8ec",
   "metadata": {},
   "source": [
    "### Helper functions"
   ]
  },
  {
   "cell_type": "code",
   "execution_count": 2,
   "id": "b471b092-bdc5-4cf7-9b4b-71873bbb717f",
   "metadata": {},
   "outputs": [
    {
     "data": {
      "text/plain": [
       "'$43.64'"
      ]
     },
     "execution_count": 2,
     "metadata": {},
     "output_type": "execute_result"
    }
   ],
   "source": [
    "# Helper to format currency\n",
    "def format_currency(amount):\n",
    "    return f\"${amount:.2f}\"\n",
    "\n",
    "format_currency(43.6351) # should output '$43.64'"
   ]
  },
  {
   "cell_type": "code",
   "execution_count": 3,
   "id": "09342e32-10e7-4595-9382-b36549bb33c7",
   "metadata": {},
   "outputs": [
    {
     "name": "stdout",
     "output_type": "stream",
     "text": [
      "Invoices saved to: /home/jupyter-subwaymatch/mba564b-2025-redesign/generate-invoices-exercise/output\n"
     ]
    }
   ],
   "source": [
    "# Load the template\n",
    "template_path = \"invoice_template.docx\"\n",
    "output_dir = Path(\"output\")\n",
    "output_dir.mkdir(exist_ok=True)\n",
    "\n",
    "for invoice_number, items in invoices:\n",
    "    doc = Document(template_path)\n",
    "\n",
    "    # Extract common fields\n",
    "    client_name = items[\"Client Name\"].iloc[0]\n",
    "    date = items[\"Date\"].iloc[0]\n",
    "\n",
    "    # Calculate totals\n",
    "    items[\"Total\"] = items[\"Quantity\"] * items[\"Unit Price\"]\n",
    "    subtotal = items[\"Total\"].sum()\n",
    "    tax = subtotal * TAX_RATE / 100\n",
    "    total = subtotal + tax\n",
    "\n",
    "    # Replace placeholders\n",
    "    for p in doc.paragraphs:\n",
    "        if \"{{invoice_number}}\" in p.text:\n",
    "            p.text = f\"Invoice Number: {invoice_number}\"\n",
    "        elif \"{{date}}\" in p.text:\n",
    "            p.text = f\"Date: {date}\"\n",
    "        elif \"{{client_name}}\" in p.text:\n",
    "            p.text = f\"Client: {client_name}\"\n",
    "        elif \"{{subtotal}}\" in p.text:\n",
    "            p.text = f\"Subtotal: {format_currency(subtotal)}\"\n",
    "        elif \"{{tax_rate}}\" in p.text:\n",
    "            p.text = f\"{TAX_RATE}\"\n",
    "        elif \"{{tax}}\" in p.text:\n",
    "            p.text = f\"Tax: {format_currency(tax)}\"\n",
    "        elif \"{{total}}\" in p.text:\n",
    "            p.text = f\"Total: {format_currency(total)}\"\n",
    "\n",
    "    # Insert items into the table\n",
    "    for i, p in enumerate(doc.paragraphs):\n",
    "        if \"{{items_table}}\" in p.text:\n",
    "            # Remove placeholder paragraph\n",
    "            parent = p._element.getparent()\n",
    "            parent.remove(p._element)\n",
    "            # Get the first table\n",
    "            table = doc.tables[0]\n",
    "            for _, row in items.iterrows():\n",
    "                new_row = table.add_row().cells\n",
    "                new_row[0].text = row[\"Item\"]\n",
    "                new_row[1].text = str(row[\"Quantity\"])\n",
    "                new_row[2].text = format_currency(row[\"Unit Price\"])\n",
    "                new_row[3].text = format_currency(row[\"Total\"])\n",
    "            break\n",
    "\n",
    "    # Save the document\n",
    "    output_path = output_dir / f\"{invoice_number}.docx\"\n",
    "    doc.save(output_path)\n",
    "\n",
    "print(f\"Invoices saved to: {output_dir.resolve()}\")"
   ]
  }
 ],
 "metadata": {
  "kernelspec": {
   "display_name": "Python 3 (ipykernel)",
   "language": "python",
   "name": "python3"
  },
  "language_info": {
   "codemirror_mode": {
    "name": "ipython",
    "version": 3
   },
   "file_extension": ".py",
   "mimetype": "text/x-python",
   "name": "python",
   "nbconvert_exporter": "python",
   "pygments_lexer": "ipython3",
   "version": "3.10.10"
  }
 },
 "nbformat": 4,
 "nbformat_minor": 5
}
