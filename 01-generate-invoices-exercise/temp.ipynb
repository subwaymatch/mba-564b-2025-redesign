{
  "cells": [
    {
      "cell_type": "markdown",
      "id": "md-intro",
      "metadata": {},
      "source": [
        "## Invoice Generation Script\n",
        "\n",
        "This notebook reads billable item data from a CSV file, groups the items by invoice number, and generates a separate Word document (.docx) for each invoice, including calculated totals and tax."
      ]
    },
    {
      "cell_type": "markdown",
      "id": "md-install",
      "metadata": {},
      "source": [
        "### 1. Install Necessary Library\n",
        "\n",
        "First, we need to ensure the `python-docx` library is installed. This library allows us to create and manipulate Microsoft Word documents using Python. The `%pip` magic command ensures we install it into the current kernel's environment."
      ]
    },
    {
      "cell_type": "code",
      "execution_count": null,
      "id": "553d2863",
      "metadata": {},
      "outputs": [],
      "source": [
        "%pip install python-docx"
      ]
    },
    {
      "cell_type": "markdown",
      "id": "md-imports",
      "metadata": {},
      "source": [
        "### 2. Import Libraries\n",
        "\n",
        "Next, we import the required Python libraries:\n",
        "* `pandas`: For reading and manipulating the data from the CSV file efficiently.\n",
        "* `docx` (specifically `Document`): For creating the Word document structure.\n",
        "* `docx.shared` (`Pt`): For specifying font sizes in points.\n",
        "* `docx.enum.text` (`WD_ALIGN_PARAGRAPH`): For setting text alignment.\n",
        "* `pathlib` (`Path`): For handling file paths and creating directories in a way that works across different operating systems."
      ]
    },
    {
      "cell_type": "code",
      "execution_count": null,
      "id": "69549b14",
      "metadata": {},
      "outputs": [],
      "source": [
        "import pandas as pd\n",
        "from docx import Document\n",
        "from docx.shared import Pt\n",
        "from docx.enum.text import WD_ALIGN_PARAGRAPH\n",
        "from pathlib import Path"
      ]
    },
    {
      "cell_type": "markdown",
      "id": "md-taxrate",
      "metadata": {},
      "source": [
        "### 3. Configure Tax Rate\n",
        "\n",
        "Set the sales tax rate that will be applied to the subtotal of each invoice. This is defined as a decimal (e.g., 0.10 represents 10%)."
      ]
    },
    {
      "cell_type": "code",
      "execution_count": null,
      "id": "899011dc",
      "metadata": {},
      "outputs": [],
      "source": [
        "# Set the tax rate here (e.g., 0.07 for 7%)\n",
        "TAX_RATE = 0.10"
      ]
    },
    {
      "cell_type": "markdown",
      "id": "md-readcsv",
      "metadata": {},
      "source": [
        "### 4. Load and Preview Data\n",
        "\n",
        "Read the invoice line items from the `billable_items.csv` file into a pandas DataFrame. We also tell pandas to parse the 'Date' column as datetime objects. Finally, display the DataFrame to verify the data has been loaded correctly."
      ]
    },
    {
      "cell_type": "code",
      "execution_count": null,
      "id": "a2cab8cd",
      "metadata": {},
      "outputs": [],
      "source": [
        "# Ensure 'billable_items.csv' is in the same directory as the notebook\n",
        "# or provide the full path.\n",
        "df = pd.read_csv(\"billable_items.csv\", parse_dates=[\"Date\"])\n",
        "\n",
        "df"
      ]
    },
    {
      "cell_type": "markdown",
      "id": "md-definefunc",
      "metadata": {},
      "source": [
        "### 5. Define Invoice Creation Function\n",
        "\n",
        "This cell defines the main function, `create_invoice`. This function takes the invoice number, the DataFrame group containing all items for that specific invoice, the output directory path, and the tax rate as input. \n",
        "\n",
        "Inside the function, it:\n",
        "* Creates a new Word document.\n",
        "* Sets default font style.\n",
        "* Extracts common information (client name, date).\n",
        "* Adds the header section (Title, Client Info, Invoice #, Date).\n",
        "* Creates a table for the line items (Description, Quantity, Unit Price, Line Total).\n",
        "* Iterates through the line items in the group, adds them to the table, and calculates the subtotal.\n",
        "* Calculates the tax amount and grand total.\n",
        "* Adds the totals section (Subtotal, Tax, Grand Total) aligned to the right.\n",
        "* Saves the completed document to the specified output path with the filename `{invoice_num}.docx`."
      ]
    },
    {
      "cell_type": "code",
      "execution_count": null,
      "id": "7c7d18af",
      "metadata": {},
      "outputs": [],
      "source": [
        "def create_invoice(invoice_num, group, output_path, tax_rate):\n",
        "    doc = Document()\n",
        "    # Set default font for the document\n",
        "    doc.styles[\"Normal\"].font.name = \"Calibri\"\n",
        "    doc.styles[\"Normal\"].font.size = Pt(12) # Using 12pt as per previous update\n",
        "\n",
        "    # Extract common invoice information from the first row of the group\n",
        "    first_row = group.iloc[0]\n",
        "    client_name = first_row[\"Client Name\"]\n",
        "\n",
        "    # Ensure date is formatted correctly even if read as string initially\n",
        "    try:\n",
        "        invoice_date_dt = pd.to_datetime(first_row[\"Date\"])\n",
        "        # Format the date to a more readable format (e.g., \"May 01, 2025\")\n",
        "        invoice_date = invoice_date_dt.strftime(\"%B %d, %Y\")\n",
        "    except (ValueError, TypeError):\n",
        "        invoice_date = str(first_row[\"Date\"]) # Fallback\n",
        "\n",
        "    # Add a title to the document (using paragraph for consistent font size)\n",
        "    p_title = doc.add_paragraph()\n",
        "    run_title = p_title.add_run('INVOICE')\n",
        "    run_title.font.bold = True\n",
        "    p_title.alignment = WD_ALIGN_PARAGRAPH.CENTER\n",
        "\n",
        "    # Add client/invoice details\n",
        "    p_info = doc.add_paragraph()\n",
        "    p_info.add_run(\"Client: \").bold = True\n",
        "    p_info.add_run(f\"{client_name}\\n\")\n",
        "    p_info.add_run(\"Invoice Number: \").bold = True\n",
        "    p_info.add_run(f\"{invoice_num}\\n\")\n",
        "    p_info.add_run(\"Date: \").bold = True\n",
        "    p_info.add_run(invoice_date)\n",
        "\n",
        "    doc.add_paragraph()  # Add some space\n",
        "\n",
        "    # Line items table\n",
        "    table = doc.add_table(rows=1, cols=4)\n",
        "    table.style = \"Table Grid\"\n",
        "    table.autofit = True # Use autofit\n",
        "\n",
        "    # Add header row\n",
        "    header_row_cells = table.rows[0].cells\n",
        "    header_row_cells[0].text = \"Item Description\"\n",
        "    header_row_cells[1].text = \"Quantity\"\n",
        "    header_row_cells[2].text = \"Unit Price\"\n",
        "    header_row_cells[3].text = \"Line Total\"\n",
        "\n",
        "    # Make header bold\n",
        "    for cell in header_row_cells:\n",
        "        if cell.paragraphs and cell.paragraphs[0].runs:\n",
        "             cell.paragraphs[0].runs[0].font.bold = True\n",
        "\n",
        "    subtotal = 0.0\n",
        "    # Add data rows\n",
        "    for index, row in group.iterrows():\n",
        "        try:\n",
        "            item = str(row[\"Item\"])\n",
        "            # Convert quantity and unit price safely\n",
        "            quantity = pd.to_numeric(row[\"Quantity\"])\n",
        "            unit_price = pd.to_numeric(row[\"Unit Price\"])\n",
        "\n",
        "            line_total = quantity * unit_price\n",
        "            subtotal += line_total\n",
        "\n",
        "            row_cells = table.add_row().cells\n",
        "            row_cells[0].text = item\n",
        "            row_cells[1].text = str(quantity)\n",
        "            row_cells[2].text = f\"${unit_price:,.2f}\"\n",
        "            row_cells[3].text = f\"${line_total:,.2f}\"\n",
        "        except (ValueError, TypeError) as conv_err:\n",
        "            print(\n",
        "                f\"  Skipping row {index+2} in CSV due to data conversion error: {conv_err}. Check Quantity/Unit Price.\"\n",
        "            )\n",
        "            continue  # Skip this row and continue with the next\n",
        "\n",
        "    # Add some space before the totals\n",
        "    doc.add_paragraph()\n",
        "\n",
        "    # Calculate totals\n",
        "    tax_amount = subtotal * tax_rate\n",
        "    grand_total = subtotal + tax_amount\n",
        "\n",
        "    # Add a subtotal, tax, and grand total section (Right aligned)\n",
        "    # Subtotal\n",
        "    p_subtotal = doc.add_paragraph()\n",
        "    p_subtotal.alignment = WD_ALIGN_PARAGRAPH.RIGHT\n",
        "    run_sub_label = p_subtotal.add_run('Subtotal: ')\n",
        "    run_sub_label.font.bold = True\n",
        "    run_sub_value = p_subtotal.add_run(f\"${subtotal:,.2f}\")\n",
        "\n",
        "    # Tax\n",
        "    p_tax = doc.add_paragraph()\n",
        "    p_tax.alignment = WD_ALIGN_PARAGRAPH.RIGHT\n",
        "    run_tax_label = p_tax.add_run(f'Tax ({tax_rate:.1%}): ')\n",
        "    run_tax_label.font.bold = True\n",
        "    run_tax_value = p_tax.add_run(f\"${tax_amount:,.2f}\")\n",
        "\n",
        "    # Grand Total\n",
        "    p_total = doc.add_paragraph()\n",
        "    p_total.alignment = WD_ALIGN_PARAGRAPH.RIGHT\n",
        "    run_total_label = p_total.add_run('Grand Total: ')\n",
        "    run_total_label.font.bold = True\n",
        "    run_total_value = p_total.add_run(f\"${grand_total:,.2f}\")\n",
        "    run_total_value.font.bold = True\n",
        "\n",
        "    # --- Save the document ---\n",
        "    output_filename = output_path / f\"{invoice_num}.docx\"\n",
        "    try:\n",
        "        doc.save(output_filename)\n",
        "        print(f\"  Invoice '{output_filename}' generated successfully.\")\n",
        "    except Exception as e:\n",
        "         print(f\"  Error saving invoice {invoice_num}: {e}\")"
      ]
    },
    {
      "cell_type": "markdown",
      "id": "md-mainglogic",
      "metadata": {},
      "source": [
        "### 6. Main Execution Logic\n",
        "\n",
        "This is the main part of the script that orchestrates the invoice generation:\n",
        "1.  **Create Output Directory:** Defines the name for the output folder (`generated_invoices`) and uses `pathlib` to create it. `mkdir(parents=True, exist_ok=True)` safely creates the directory without errors if it already exists.\n",
        "2.  **Group Data:** Groups the rows in the DataFrame based on the unique values in the 'Invoice Number' column.\n",
        "3.  **Iterate and Generate:** Loops through each invoice group. For each group, it prints a status message indicating which invoice is being processed and then calls the `create_invoice` function, passing the necessary details to generate the Word document for that specific invoice.\n",
        "4.  **Completion Message:** Prints a final message when all invoices have been processed."
      ]
    },
    {
      "cell_type": "code",
      "execution_count": null,
      "id": "f027351d",
      "metadata": {},
      "outputs": [],
      "source": [
        "# Create a directory to save the invoices\n",
        "output_path = Path(\"generated_invoices\")\n",
        "output_path.mkdir(parents=True, exist_ok=True)\n",
        "print(f\"Output directory '{output_path}' ensured.\")\n",
        "\n",
        "# Group the data by \"Invoice Number\"\n",
        "# Check if 'Invoice Number' column exists before grouping\n",
        "if 'Invoice Number' not in df.columns:\n",
        "     print(f\"Error: Column 'Invoice Number' not found in the DataFrame.\")\n",
        "else:\n",
        "    grouped_data = df.groupby(\"Invoice Number\")\n",
        "    print(f\"Found {len(grouped_data)} unique invoices to generate.\")\n",
        "\n",
        "    # Iterate through each group and generate invoice\n",
        "    if len(grouped_data) > 0:\n",
        "        for invoice_num, group in grouped_data:\n",
        "             # Ensure the group is not empty and has necessary columns before proceeding\n",
        "            if not group.empty and 'Client Name' in group.columns:\n",
        "                print(\n",
        "                    f\"Processing Invoice: {invoice_num} for Client: {group.iloc[0]['Client Name']}...\"\n",
        "                )\n",
        "                create_invoice(invoice_num, group, output_path, TAX_RATE)\n",
        "            else:\n",
        "                 print(f\"  Skipping empty or invalid group for Invoice: {invoice_num}\")\n",
        "        print(\"\\nInvoice generation process complete.\")\n",
        "    else:\n",
        "        print(\"No invoice groups found to process.\")"
      ]
    }
  ],
  "metadata": {
    "kernelspec": {
      "display_name": "gies",
      "language": "python",
      "name": "python3"
    },
    "language_info": {
      "codemirror_mode": {
        "name": "ipython",
        "version": 3
      },
      "file_extension": ".py",
      "mimetype": "text/x-python",
      "name": "python",
      "nbconvert_exporter": "python",
      "pygments_lexer": "ipython3",
      "version": "3.13.0"
    }
  },
  "nbformat": 4,
  "nbformat_minor": 5
}
