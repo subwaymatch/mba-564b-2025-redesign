{
 "cells": [
  {
   "cell_type": "markdown",
   "id": "9e33c8da-65b0-4953-bc4f-0b5026a64908",
   "metadata": {},
   "source": [
    "# Use SEC EDGAR API to generate visualizations\n"
   ]
  },
  {
   "cell_type": "markdown",
   "id": "3cec1821-3442-4307-b55f-affd7aebda8c",
   "metadata": {},
   "source": [
    "This exercise uses a Python wrapper (`edgartools`) around the SEC EDGAR API. The raw EDGAR API is difficult to use due to its XBRL format.\n"
   ]
  },
  {
   "cell_type": "code",
   "execution_count": 2,
   "id": "468ea5f9-90d4-4feb-a434-b10182c91128",
   "metadata": {},
   "outputs": [],
   "source": [
    "# Install edgartools version 4\n",
    "# pip install 'edgartools>=4.0.0,<5.0.0'"
   ]
  },
  {
   "cell_type": "code",
   "execution_count": 1,
   "id": "857be616-3b9f-4afb-bd6a-41d09d73b0d4",
   "metadata": {},
   "outputs": [],
   "source": [
    "import pandas as pd\n",
    "from edgar import (\n",
    "    set_identity,\n",
    "    get_filings,\n",
    "    Company,\n",
    ")"
   ]
  },
  {
   "cell_type": "code",
   "execution_count": 3,
   "id": "6be7bbd8-cb28-479e-a94b-0f376a19f1d9",
   "metadata": {},
   "outputs": [],
   "source": [
    "# Set identity for the API calls\n",
    "set_identity(\"ypark32@illinois.edu\")"
   ]
  },
  {
   "cell_type": "code",
   "execution_count": null,
   "id": "cb65b680",
   "metadata": {},
   "outputs": [],
   "source": []
  },
  {
   "cell_type": "code",
   "execution_count": 4,
   "id": "8f3df129-5f75-42c8-8b67-6db1b86839d0",
   "metadata": {},
   "outputs": [
    {
     "data": {
      "text/html": [
       "<pre style=\"white-space:pre;overflow-x:auto;line-height:normal;font-family:Menlo,'DejaVu Sans Mono',consolas,'Courier New',monospace\"></pre>\n"
      ],
      "text/plain": []
     },
     "metadata": {},
     "output_type": "display_data"
    },
    {
     "data": {
      "text/plain": [
       "\u001b[38;5;244m╭─\u001b[0m\u001b[38;5;244m───────────────────────────────────────\u001b[0m\u001b[38;5;244m 🏢 \u001b[0m\u001b[1;32mMICROSOFT CORP\u001b[0m\u001b[38;5;244m \u001b[0m\u001b[2;38;5;244m[789019] \u001b[0m\u001b[1;33mMSFT\u001b[0m\u001b[38;5;244m \u001b[0m\u001b[38;5;244m───────────────────────────────────────\u001b[0m\u001b[38;5;244m─╮\u001b[0m\n",
       "\u001b[38;5;244m│\u001b[0m                                                                                                                 \u001b[38;5;244m│\u001b[0m\n",
       "\u001b[38;5;244m│\u001b[0m                                                                                                                 \u001b[38;5;244m│\u001b[0m\n",
       "\u001b[38;5;244m│\u001b[0m \u001b[38;5;244m╭─\u001b[0m\u001b[38;5;244m────────────────────────────────────────────────\u001b[0m\u001b[38;5;244m 📋 Entity \u001b[0m\u001b[38;5;244m────────────────────────────────────────────────\u001b[0m\u001b[38;5;244m─╮\u001b[0m \u001b[38;5;244m│\u001b[0m\n",
       "\u001b[38;5;244m│\u001b[0m \u001b[38;5;244m│\u001b[0m                                                                                                             \u001b[38;5;244m│\u001b[0m \u001b[38;5;244m│\u001b[0m\n",
       "\u001b[38;5;244m│\u001b[0m \u001b[38;5;244m│\u001b[0m   CIK   \u001b[1;38;5;32m789019\u001b[0m   Type   \u001b[1;33mOperating\u001b[0m   \u001b[1;33m○\u001b[0m                                                                       \u001b[38;5;244m│\u001b[0m \u001b[38;5;244m│\u001b[0m\n",
       "\u001b[38;5;244m│\u001b[0m \u001b[38;5;244m│\u001b[0m                                                                                                             \u001b[38;5;244m│\u001b[0m \u001b[38;5;244m│\u001b[0m\n",
       "\u001b[38;5;244m│\u001b[0m \u001b[38;5;244m│\u001b[0m                                                                                                             \u001b[38;5;244m│\u001b[0m \u001b[38;5;244m│\u001b[0m\n",
       "\u001b[38;5;244m│\u001b[0m \u001b[38;5;244m│\u001b[0m  \u001b[1m \u001b[0m\u001b[1mCategory               \u001b[0m\u001b[1m \u001b[0m \u001b[1m \u001b[0m\u001b[1mIndustry                           \u001b[0m\u001b[1m \u001b[0m \u001b[1m \u001b[0m\u001b[1mFiscal Year End\u001b[0m\u001b[1m \u001b[0m                          \u001b[38;5;244m│\u001b[0m \u001b[38;5;244m│\u001b[0m\n",
       "\u001b[38;5;244m│\u001b[0m \u001b[38;5;244m│\u001b[0m  ─────────────────────────────────────────────────────────────────────────────────                          \u001b[38;5;244m│\u001b[0m \u001b[38;5;244m│\u001b[0m\n",
       "\u001b[38;5;244m│\u001b[0m \u001b[38;5;244m│\u001b[0m   Large accelerated filer   7372: Services-Prepackaged Software   Jun 30                                    \u001b[38;5;244m│\u001b[0m \u001b[38;5;244m│\u001b[0m\n",
       "\u001b[38;5;244m│\u001b[0m \u001b[38;5;244m│\u001b[0m                                                                                                             \u001b[38;5;244m│\u001b[0m \u001b[38;5;244m│\u001b[0m\n",
       "\u001b[38;5;244m│\u001b[0m \u001b[38;5;244m╰─────────────────────────────────────────────────────────────────────────────────────────────────────────────╯\u001b[0m \u001b[38;5;244m│\u001b[0m\n",
       "\u001b[38;5;244m│\u001b[0m \u001b[38;5;244m╭─\u001b[0m\u001b[38;5;244m──────────────────────────────────────────────\u001b[0m\u001b[38;5;244m 📈 Exchanges \u001b[0m\u001b[38;5;244m───────────────────────────────────────────────\u001b[0m\u001b[38;5;244m─╮\u001b[0m \u001b[38;5;244m│\u001b[0m\n",
       "\u001b[38;5;244m│\u001b[0m \u001b[38;5;244m│\u001b[0m                                                                                                             \u001b[38;5;244m│\u001b[0m \u001b[38;5;244m│\u001b[0m\n",
       "\u001b[38;5;244m│\u001b[0m \u001b[38;5;244m│\u001b[0m  \u001b[1m \u001b[0m\u001b[1mExchange\u001b[0m\u001b[1m \u001b[0m \u001b[1m \u001b[0m\u001b[1mSymbol\u001b[0m\u001b[1m \u001b[0m                                                                                        \u001b[38;5;244m│\u001b[0m \u001b[38;5;244m│\u001b[0m\n",
       "\u001b[38;5;244m│\u001b[0m \u001b[38;5;244m│\u001b[0m  ───────────────────                                                                                        \u001b[38;5;244m│\u001b[0m \u001b[38;5;244m│\u001b[0m\n",
       "\u001b[38;5;244m│\u001b[0m \u001b[38;5;244m│\u001b[0m   Nasdaq    \u001b[1;33m \u001b[0m\u001b[1;33mMSFT  \u001b[0m\u001b[1;33m \u001b[0m                                                                                        \u001b[38;5;244m│\u001b[0m \u001b[38;5;244m│\u001b[0m\n",
       "\u001b[38;5;244m│\u001b[0m \u001b[38;5;244m│\u001b[0m                                                                                                             \u001b[38;5;244m│\u001b[0m \u001b[38;5;244m│\u001b[0m\n",
       "\u001b[38;5;244m│\u001b[0m \u001b[38;5;244m╰─────────────────────────────────────────────────────────────────────────────────────────────────────────────╯\u001b[0m \u001b[38;5;244m│\u001b[0m\n",
       "\u001b[38;5;244m│\u001b[0m \u001b[38;5;244m╭─\u001b[0m\u001b[38;5;244m─\u001b[0m\u001b[38;5;244m 🏢 Business Address \u001b[0m\u001b[38;5;244m──\u001b[0m\u001b[38;5;244m─╮\u001b[0m         \u001b[38;5;244m╭─\u001b[0m\u001b[38;5;244m──\u001b[0m\u001b[38;5;244m 📫 Mailing Address \u001b[0m\u001b[38;5;244m──\u001b[0m\u001b[38;5;244m─╮\u001b[0m         \u001b[38;5;244m╭─\u001b[0m\u001b[38;5;244m 📞 Contact Information \u001b[0m\u001b[38;5;244m─╮\u001b[0m          \u001b[38;5;244m│\u001b[0m\n",
       "\u001b[38;5;244m│\u001b[0m \u001b[38;5;244m│\u001b[0m ONE MICROSOFT WAY        \u001b[38;5;244m│\u001b[0m         \u001b[38;5;244m│\u001b[0m ONE MICROSOFT WAY        \u001b[38;5;244m│\u001b[0m         \u001b[38;5;244m│\u001b[0m                          \u001b[38;5;244m│\u001b[0m          \u001b[38;5;244m│\u001b[0m\n",
       "\u001b[38;5;244m│\u001b[0m \u001b[38;5;244m│\u001b[0m REDMOND, WA 98052-6399   \u001b[38;5;244m│\u001b[0m         \u001b[38;5;244m│\u001b[0m REDMOND, WA 98052-6399   \u001b[38;5;244m│\u001b[0m         \u001b[38;5;244m│\u001b[0m  \u001b[1;38;5;249m \u001b[0m\u001b[1;38;5;249mPhone\u001b[0m\u001b[1;38;5;249m \u001b[0m  425-882-8080   \u001b[38;5;244m│\u001b[0m          \u001b[38;5;244m│\u001b[0m\n",
       "\u001b[38;5;244m│\u001b[0m \u001b[38;5;244m╰──────────────────────────╯\u001b[0m         \u001b[38;5;244m╰──────────────────────────╯\u001b[0m         \u001b[38;5;244m│\u001b[0m                          \u001b[38;5;244m│\u001b[0m          \u001b[38;5;244m│\u001b[0m\n",
       "\u001b[38;5;244m│\u001b[0m                                                                           \u001b[38;5;244m╰──────────────────────────╯\u001b[0m          \u001b[38;5;244m│\u001b[0m\n",
       "\u001b[38;5;244m╰─\u001b[0m\u001b[38;5;244m───────────────────────────────────────────────\u001b[0m\u001b[38;5;244m SEC Entity Data \u001b[0m\u001b[38;5;244m───────────────────────────────────────────────\u001b[0m\u001b[38;5;244m─╯\u001b[0m"
      ]
     },
     "execution_count": 4,
     "metadata": {},
     "output_type": "execute_result"
    }
   ],
   "source": [
    "# Retrieve company information for Microsoft\n",
    "c = Company(\"MSFT\")\n",
    "c"
   ]
  },
  {
   "cell_type": "markdown",
   "id": "9fc25674-02f8-4843-adac-a53a32b5ab79",
   "metadata": {},
   "source": [
    "Retrieve the business address.\n"
   ]
  },
  {
   "cell_type": "code",
   "execution_count": 4,
   "id": "179d78f7-2e5b-4f4b-b2c3-f8c6c45a0e69",
   "metadata": {},
   "outputs": [
    {
     "data": {
      "text/plain": [
       "Address(street1=\"ONE MICROSOFT WAY\", street2=\"\", city=\"REDMOND\",zipcode=\"98052-6399\", state_or_country=\"WA\")"
      ]
     },
     "execution_count": 4,
     "metadata": {},
     "output_type": "execute_result"
    }
   ],
   "source": [
    "c.business_address"
   ]
  },
  {
   "cell_type": "markdown",
   "id": "e397b9f1-f3df-4f80-9deb-bfc60aa3f381",
   "metadata": {},
   "source": [
    "Get a company's import accumulated dataset in the SEC database.\n"
   ]
  },
  {
   "cell_type": "code",
   "execution_count": 5,
   "id": "42283798-6a6c-48b3-9dc0-9e470edc0cd8",
   "metadata": {},
   "outputs": [
    {
     "data": {
      "text/html": [
       "<pre style=\"white-space:pre;overflow-x:auto;line-height:normal;font-family:Menlo,'DejaVu Sans Mono',consolas,'Courier New',monospace\"></pre>\n"
      ],
      "text/plain": []
     },
     "metadata": {},
     "output_type": "display_data"
    },
    {
     "data": {
      "text/plain": [
       "╭─────────────────────── Company Facts(MICROSOFT CORPORATION [789019] 29,683 total facts) ────────────────────────╮\n",
       "│                                                                                                                 │\n",
       "│  \u001b[1m \u001b[0m\u001b[1m     \u001b[0m\u001b[1m \u001b[0m \u001b[1m \u001b[0m\u001b[1mnamesp…\u001b[0m\u001b[1m \u001b[0m \u001b[1;38;5;39m \u001b[0m\u001b[1;38;5;39mfact   \u001b[0m\u001b[1;38;5;39m \u001b[0m \u001b[1m \u001b[0m\u001b[1mval    \u001b[0m\u001b[1m \u001b[0m \u001b[1m \u001b[0m\u001b[1maccn   \u001b[0m\u001b[1m \u001b[0m \u001b[1m \u001b[0m\u001b[1mend    \u001b[0m\u001b[1m \u001b[0m \u001b[1m \u001b[0m\u001b[1mfy    \u001b[0m\u001b[1m \u001b[0m \u001b[1m \u001b[0m\u001b[1mfp \u001b[0m\u001b[1m \u001b[0m \u001b[1;38;5;71m \u001b[0m\u001b[1;38;5;71mform  \u001b[0m\u001b[1;38;5;71m \u001b[0m \u001b[1;38;5;39m \u001b[0m\u001b[1;38;5;39mfiled \u001b[0m\u001b[1;38;5;39m \u001b[0m \u001b[1m \u001b[0m\u001b[1mframe  \u001b[0m\u001b[1m \u001b[0m \u001b[1m \u001b[0m\u001b[1mstart \u001b[0m\u001b[1m \u001b[0m  │\n",
       "│  ─────────────────────────────────────────────────────────────────────────────────────────────────────────────  │\n",
       "│  \u001b[1m \u001b[0m\u001b[1m0    \u001b[0m\u001b[1m \u001b[0m \u001b[1m \u001b[0m\u001b[1mdei    \u001b[0m\u001b[1m \u001b[0m \u001b[1;38;5;39m \u001b[0m\u001b[1;38;5;39mEntity…\u001b[0m\u001b[1;38;5;39m \u001b[0m \u001b[1m \u001b[0m\u001b[1m887912…\u001b[0m\u001b[1m \u001b[0m \u001b[1m \u001b[0m\u001b[1m000119…\u001b[0m\u001b[1m \u001b[0m \u001b[1m \u001b[0m\u001b[1m2009-1…\u001b[0m\u001b[1m \u001b[0m \u001b[1m \u001b[0m\u001b[1m2010.0\u001b[0m\u001b[1m \u001b[0m \u001b[1m \u001b[0m\u001b[1mQ1 \u001b[0m\u001b[1m \u001b[0m \u001b[1;38;5;71m \u001b[0m\u001b[1;38;5;71m10-Q  \u001b[0m\u001b[1;38;5;71m \u001b[0m \u001b[1;38;5;39m \u001b[0m\u001b[1;38;5;39m2009-…\u001b[0m\u001b[1;38;5;39m \u001b[0m \u001b[1m \u001b[0m\u001b[1mCY2009…\u001b[0m\u001b[1m \u001b[0m \u001b[1m \u001b[0m\u001b[1mNone  \u001b[0m\u001b[1m \u001b[0m  │\n",
       "│   1       dei      \u001b[38;5;39m \u001b[0m\u001b[38;5;39mEntity…\u001b[0m\u001b[38;5;39m \u001b[0m  877046…   000119…   2010-0…   2010.0   Q2   \u001b[38;5;71m \u001b[0m\u001b[38;5;71m10-Q  \u001b[0m\u001b[38;5;71m \u001b[0m \u001b[38;5;39m \u001b[0m\u001b[38;5;39m2010-…\u001b[0m\u001b[38;5;39m \u001b[0m  CY2009…   None     │\n",
       "│  \u001b[1m \u001b[0m\u001b[1m2    \u001b[0m\u001b[1m \u001b[0m \u001b[1m \u001b[0m\u001b[1mdei    \u001b[0m\u001b[1m \u001b[0m \u001b[1;38;5;39m \u001b[0m\u001b[1;38;5;39mEntity…\u001b[0m\u001b[1;38;5;39m \u001b[0m \u001b[1m \u001b[0m\u001b[1m876383…\u001b[0m\u001b[1m \u001b[0m \u001b[1m \u001b[0m\u001b[1m000119…\u001b[0m\u001b[1m \u001b[0m \u001b[1m \u001b[0m\u001b[1m2010-0…\u001b[0m\u001b[1m \u001b[0m \u001b[1m \u001b[0m\u001b[1m2010.0\u001b[0m\u001b[1m \u001b[0m \u001b[1m \u001b[0m\u001b[1mQ3 \u001b[0m\u001b[1m \u001b[0m \u001b[1;38;5;71m \u001b[0m\u001b[1;38;5;71m10-Q  \u001b[0m\u001b[1;38;5;71m \u001b[0m \u001b[1;38;5;39m \u001b[0m\u001b[1;38;5;39m2010-…\u001b[0m\u001b[1;38;5;39m \u001b[0m \u001b[1m \u001b[0m\u001b[1mCY2010…\u001b[0m\u001b[1m \u001b[0m \u001b[1m \u001b[0m\u001b[1mNone  \u001b[0m\u001b[1m \u001b[0m  │\n",
       "│   3       dei      \u001b[38;5;39m \u001b[0m\u001b[38;5;39mEntity…\u001b[0m\u001b[38;5;39m \u001b[0m  865356…   000119…   2010-0…   2010.0   FY   \u001b[38;5;71m \u001b[0m\u001b[38;5;71m10-K  \u001b[0m\u001b[38;5;71m \u001b[0m \u001b[38;5;39m \u001b[0m\u001b[38;5;39m2010-…\u001b[0m\u001b[38;5;39m \u001b[0m  CY2010…   None     │\n",
       "│  \u001b[1m \u001b[0m\u001b[1m4    \u001b[0m\u001b[1m \u001b[0m \u001b[1m \u001b[0m\u001b[1mdei    \u001b[0m\u001b[1m \u001b[0m \u001b[1;38;5;39m \u001b[0m\u001b[1;38;5;39mEntity…\u001b[0m\u001b[1;38;5;39m \u001b[0m \u001b[1m \u001b[0m\u001b[1m855552…\u001b[0m\u001b[1m \u001b[0m \u001b[1m \u001b[0m\u001b[1m000119…\u001b[0m\u001b[1m \u001b[0m \u001b[1m \u001b[0m\u001b[1m2010-1…\u001b[0m\u001b[1m \u001b[0m \u001b[1m \u001b[0m\u001b[1m2011.0\u001b[0m\u001b[1m \u001b[0m \u001b[1m \u001b[0m\u001b[1mQ1 \u001b[0m\u001b[1m \u001b[0m \u001b[1;38;5;71m \u001b[0m\u001b[1;38;5;71m10-Q  \u001b[0m\u001b[1;38;5;71m \u001b[0m \u001b[1;38;5;39m \u001b[0m\u001b[1;38;5;39m2010-…\u001b[0m\u001b[1;38;5;39m \u001b[0m \u001b[1m \u001b[0m\u001b[1mCY2010…\u001b[0m\u001b[1m \u001b[0m \u001b[1m \u001b[0m\u001b[1mNone  \u001b[0m\u001b[1m \u001b[0m  │\n",
       "│   5       dei      \u001b[38;5;39m \u001b[0m\u001b[38;5;39mEntity…\u001b[0m\u001b[38;5;39m \u001b[0m  840238…   000119…   2011-0…   2011.0   Q2   \u001b[38;5;71m \u001b[0m\u001b[38;5;71m10-Q  \u001b[0m\u001b[38;5;71m \u001b[0m \u001b[38;5;39m \u001b[0m\u001b[38;5;39m2011-…\u001b[0m\u001b[38;5;39m \u001b[0m  CY2010…   None     │\n",
       "│  \u001b[1m \u001b[0m\u001b[1m6    \u001b[0m\u001b[1m \u001b[0m \u001b[1m \u001b[0m\u001b[1mdei    \u001b[0m\u001b[1m \u001b[0m \u001b[1;38;5;39m \u001b[0m\u001b[1;38;5;39mEntity…\u001b[0m\u001b[1;38;5;39m \u001b[0m \u001b[1m \u001b[0m\u001b[1m843276…\u001b[0m\u001b[1m \u001b[0m \u001b[1m \u001b[0m\u001b[1m000119…\u001b[0m\u001b[1m \u001b[0m \u001b[1m \u001b[0m\u001b[1m2011-0…\u001b[0m\u001b[1m \u001b[0m \u001b[1m \u001b[0m\u001b[1m2011.0\u001b[0m\u001b[1m \u001b[0m \u001b[1m \u001b[0m\u001b[1mQ3 \u001b[0m\u001b[1m \u001b[0m \u001b[1;38;5;71m \u001b[0m\u001b[1;38;5;71m10-Q  \u001b[0m\u001b[1;38;5;71m \u001b[0m \u001b[1;38;5;39m \u001b[0m\u001b[1;38;5;39m2011-…\u001b[0m\u001b[1;38;5;39m \u001b[0m \u001b[1m \u001b[0m\u001b[1mCY2011…\u001b[0m\u001b[1m \u001b[0m \u001b[1m \u001b[0m\u001b[1mNone  \u001b[0m\u001b[1m \u001b[0m  │\n",
       "│   7       dei      \u001b[38;5;39m \u001b[0m\u001b[38;5;39mEntity…\u001b[0m\u001b[38;5;39m \u001b[0m  837826…   000119…   2011-0…   2011.0   FY   \u001b[38;5;71m \u001b[0m\u001b[38;5;71m10-K  \u001b[0m\u001b[38;5;71m \u001b[0m \u001b[38;5;39m \u001b[0m\u001b[38;5;39m2011-…\u001b[0m\u001b[38;5;39m \u001b[0m  CY2011…   None     │\n",
       "│  \u001b[1m \u001b[0m\u001b[1m8    \u001b[0m\u001b[1m \u001b[0m \u001b[1m \u001b[0m\u001b[1mdei    \u001b[0m\u001b[1m \u001b[0m \u001b[1;38;5;39m \u001b[0m\u001b[1;38;5;39mEntity…\u001b[0m\u001b[1;38;5;39m \u001b[0m \u001b[1m \u001b[0m\u001b[1m841218…\u001b[0m\u001b[1m \u001b[0m \u001b[1m \u001b[0m\u001b[1m000119…\u001b[0m\u001b[1m \u001b[0m \u001b[1m \u001b[0m\u001b[1m2011-1…\u001b[0m\u001b[1m \u001b[0m \u001b[1m \u001b[0m\u001b[1m2012.0\u001b[0m\u001b[1m \u001b[0m \u001b[1m \u001b[0m\u001b[1mQ1 \u001b[0m\u001b[1m \u001b[0m \u001b[1;38;5;71m \u001b[0m\u001b[1;38;5;71m10-Q  \u001b[0m\u001b[1;38;5;71m \u001b[0m \u001b[1;38;5;39m \u001b[0m\u001b[1;38;5;39m2011-…\u001b[0m\u001b[1;38;5;39m \u001b[0m \u001b[1m \u001b[0m\u001b[1mCY2011…\u001b[0m\u001b[1m \u001b[0m \u001b[1m \u001b[0m\u001b[1mNone  \u001b[0m\u001b[1m \u001b[0m  │\n",
       "│   9       dei      \u001b[38;5;39m \u001b[0m\u001b[38;5;39mEntity…\u001b[0m\u001b[38;5;39m \u001b[0m  839077…   000119…   2012-0…   2012.0   Q2   \u001b[38;5;71m \u001b[0m\u001b[38;5;71m10-Q/A\u001b[0m\u001b[38;5;71m \u001b[0m \u001b[38;5;39m \u001b[0m\u001b[38;5;39m2012-…\u001b[0m\u001b[38;5;39m \u001b[0m  CY2011…   None     │\n",
       "│  \u001b[1m \u001b[0m\u001b[1m...  \u001b[0m\u001b[1m \u001b[0m \u001b[1m \u001b[0m\u001b[1m...    \u001b[0m\u001b[1m \u001b[0m \u001b[1;38;5;39m \u001b[0m\u001b[1;38;5;39m...    \u001b[0m\u001b[1;38;5;39m \u001b[0m \u001b[1m \u001b[0m\u001b[1m...    \u001b[0m\u001b[1m \u001b[0m \u001b[1m \u001b[0m\u001b[1m...    \u001b[0m\u001b[1m \u001b[0m \u001b[1m \u001b[0m\u001b[1m...    \u001b[0m\u001b[1m \u001b[0m \u001b[1m \u001b[0m\u001b[1m...   \u001b[0m\u001b[1m \u001b[0m \u001b[1m \u001b[0m\u001b[1m...\u001b[0m\u001b[1m \u001b[0m \u001b[1;38;5;71m \u001b[0m\u001b[1;38;5;71m...   \u001b[0m\u001b[1;38;5;71m \u001b[0m \u001b[1;38;5;39m \u001b[0m\u001b[1;38;5;39m...   \u001b[0m\u001b[1;38;5;39m \u001b[0m \u001b[1m \u001b[0m\u001b[1m...    \u001b[0m\u001b[1m \u001b[0m \u001b[1m \u001b[0m\u001b[1m...   \u001b[0m\u001b[1m \u001b[0m  │\n",
       "│   29673   us-gaap  \u001b[38;5;39m \u001b[0m\u001b[38;5;39mEquity…\u001b[0m\u001b[38;5;39m \u001b[0m  600000…   000095…   2024-0…   2025.0   Q1   \u001b[38;5;71m \u001b[0m\u001b[38;5;71m10-Q  \u001b[0m\u001b[38;5;71m \u001b[0m \u001b[38;5;39m \u001b[0m\u001b[38;5;39m2024-…\u001b[0m\u001b[38;5;39m \u001b[0m  None      None     │\n",
       "│  \u001b[1m \u001b[0m\u001b[1m29674\u001b[0m\u001b[1m \u001b[0m \u001b[1m \u001b[0m\u001b[1mus-gaap\u001b[0m\u001b[1m \u001b[0m \u001b[1;38;5;39m \u001b[0m\u001b[1;38;5;39mEquity…\u001b[0m\u001b[1;38;5;39m \u001b[0m \u001b[1m \u001b[0m\u001b[1m600000…\u001b[0m\u001b[1m \u001b[0m \u001b[1m \u001b[0m\u001b[1m000095…\u001b[0m\u001b[1m \u001b[0m \u001b[1m \u001b[0m\u001b[1m2024-0…\u001b[0m\u001b[1m \u001b[0m \u001b[1m \u001b[0m\u001b[1m2025.0\u001b[0m\u001b[1m \u001b[0m \u001b[1m \u001b[0m\u001b[1mQ2 \u001b[0m\u001b[1m \u001b[0m \u001b[1;38;5;71m \u001b[0m\u001b[1;38;5;71m10-Q  \u001b[0m\u001b[1;38;5;71m \u001b[0m \u001b[1;38;5;39m \u001b[0m\u001b[1;38;5;39m2025-…\u001b[0m\u001b[1;38;5;39m \u001b[0m \u001b[1m \u001b[0m\u001b[1mCY2024…\u001b[0m\u001b[1m \u001b[0m \u001b[1m \u001b[0m\u001b[1mNone  \u001b[0m\u001b[1m \u001b[0m  │\n",
       "│   29675   us-gaap  \u001b[38;5;39m \u001b[0m\u001b[38;5;39mEquity…\u001b[0m\u001b[38;5;39m \u001b[0m  680000…   000095…   2024-0…   2025.0   Q1   \u001b[38;5;71m \u001b[0m\u001b[38;5;71m10-Q  \u001b[0m\u001b[38;5;71m \u001b[0m \u001b[38;5;39m \u001b[0m\u001b[38;5;39m2024-…\u001b[0m\u001b[38;5;39m \u001b[0m  CY2024…   None     │\n",
       "│  \u001b[1m \u001b[0m\u001b[1m29676\u001b[0m\u001b[1m \u001b[0m \u001b[1m \u001b[0m\u001b[1mus-gaap\u001b[0m\u001b[1m \u001b[0m \u001b[1;38;5;39m \u001b[0m\u001b[1;38;5;39mEquity…\u001b[0m\u001b[1;38;5;39m \u001b[0m \u001b[1m \u001b[0m\u001b[1m680000…\u001b[0m\u001b[1m \u001b[0m \u001b[1m \u001b[0m\u001b[1m000095…\u001b[0m\u001b[1m \u001b[0m \u001b[1m \u001b[0m\u001b[1m2024-1…\u001b[0m\u001b[1m \u001b[0m \u001b[1m \u001b[0m\u001b[1m2025.0\u001b[0m\u001b[1m \u001b[0m \u001b[1m \u001b[0m\u001b[1mQ2 \u001b[0m\u001b[1m \u001b[0m \u001b[1;38;5;71m \u001b[0m\u001b[1;38;5;71m10-Q  \u001b[0m\u001b[1;38;5;71m \u001b[0m \u001b[1;38;5;39m \u001b[0m\u001b[1;38;5;39m2025-…\u001b[0m\u001b[1;38;5;39m \u001b[0m \u001b[1m \u001b[0m\u001b[1mCY2024…\u001b[0m\u001b[1m \u001b[0m \u001b[1m \u001b[0m\u001b[1mNone  \u001b[0m\u001b[1m \u001b[0m  │\n",
       "│   29677   us-gaap  \u001b[38;5;39m \u001b[0m\u001b[38;5;39mIntere…\u001b[0m\u001b[38;5;39m \u001b[0m  525000…   000095…   2023-0…   2025.0   Q1   \u001b[38;5;71m \u001b[0m\u001b[38;5;71m10-Q  \u001b[0m\u001b[38;5;71m \u001b[0m \u001b[38;5;39m \u001b[0m\u001b[38;5;39m2024-…\u001b[0m\u001b[38;5;39m \u001b[0m  CY2023…   2023-…   │\n",
       "│  \u001b[1m \u001b[0m\u001b[1m29678\u001b[0m\u001b[1m \u001b[0m \u001b[1m \u001b[0m\u001b[1mus-gaap\u001b[0m\u001b[1m \u001b[0m \u001b[1;38;5;39m \u001b[0m\u001b[1;38;5;39mIntere…\u001b[0m\u001b[1;38;5;39m \u001b[0m \u001b[1m \u001b[0m\u001b[1m143400…\u001b[0m\u001b[1m \u001b[0m \u001b[1m \u001b[0m\u001b[1m000095…\u001b[0m\u001b[1m \u001b[0m \u001b[1m \u001b[0m\u001b[1m2023-1…\u001b[0m\u001b[1m \u001b[0m \u001b[1m \u001b[0m\u001b[1m2025.0\u001b[0m\u001b[1m \u001b[0m \u001b[1m \u001b[0m\u001b[1mQ2 \u001b[0m\u001b[1m \u001b[0m \u001b[1;38;5;71m \u001b[0m\u001b[1;38;5;71m10-Q  \u001b[0m\u001b[1;38;5;71m \u001b[0m \u001b[1;38;5;39m \u001b[0m\u001b[1;38;5;39m2025-…\u001b[0m\u001b[1;38;5;39m \u001b[0m \u001b[1m \u001b[0m\u001b[1mNone   \u001b[0m\u001b[1m \u001b[0m \u001b[1m \u001b[0m\u001b[1m2023-…\u001b[0m\u001b[1m \u001b[0m  │\n",
       "│   29679   us-gaap  \u001b[38;5;39m \u001b[0m\u001b[38;5;39mIntere…\u001b[0m\u001b[38;5;39m \u001b[0m  909000…   000095…   2023-1…   2025.0   Q2   \u001b[38;5;71m \u001b[0m\u001b[38;5;71m10-Q  \u001b[0m\u001b[38;5;71m \u001b[0m \u001b[38;5;39m \u001b[0m\u001b[38;5;39m2025-…\u001b[0m\u001b[38;5;39m \u001b[0m  CY2023…   2023-…   │\n",
       "│  \u001b[1m \u001b[0m\u001b[1m29680\u001b[0m\u001b[1m \u001b[0m \u001b[1m \u001b[0m\u001b[1mus-gaap\u001b[0m\u001b[1m \u001b[0m \u001b[1;38;5;39m \u001b[0m\u001b[1;38;5;39mIntere…\u001b[0m\u001b[1;38;5;39m \u001b[0m \u001b[1m \u001b[0m\u001b[1m582000…\u001b[0m\u001b[1m \u001b[0m \u001b[1m \u001b[0m\u001b[1m000095…\u001b[0m\u001b[1m \u001b[0m \u001b[1m \u001b[0m\u001b[1m2024-0…\u001b[0m\u001b[1m \u001b[0m \u001b[1m \u001b[0m\u001b[1m2025.0\u001b[0m\u001b[1m \u001b[0m \u001b[1m \u001b[0m\u001b[1mQ1 \u001b[0m\u001b[1m \u001b[0m \u001b[1;38;5;71m \u001b[0m\u001b[1;38;5;71m10-Q  \u001b[0m\u001b[1;38;5;71m \u001b[0m \u001b[1;38;5;39m \u001b[0m\u001b[1;38;5;39m2024-…\u001b[0m\u001b[1;38;5;39m \u001b[0m \u001b[1m \u001b[0m\u001b[1mCY2024…\u001b[0m\u001b[1m \u001b[0m \u001b[1m \u001b[0m\u001b[1m2024-…\u001b[0m\u001b[1m \u001b[0m  │\n",
       "│   29681   us-gaap  \u001b[38;5;39m \u001b[0m\u001b[38;5;39mIntere…\u001b[0m\u001b[38;5;39m \u001b[0m  117600…   000095…   2024-1…   2025.0   Q2   \u001b[38;5;71m \u001b[0m\u001b[38;5;71m10-Q  \u001b[0m\u001b[38;5;71m \u001b[0m \u001b[38;5;39m \u001b[0m\u001b[38;5;39m2025-…\u001b[0m\u001b[38;5;39m \u001b[0m  None      2024-…   │\n",
       "│  \u001b[1m \u001b[0m\u001b[1m29682\u001b[0m\u001b[1m \u001b[0m \u001b[1m \u001b[0m\u001b[1mus-gaap\u001b[0m\u001b[1m \u001b[0m \u001b[1;38;5;39m \u001b[0m\u001b[1;38;5;39mIntere…\u001b[0m\u001b[1;38;5;39m \u001b[0m \u001b[1m \u001b[0m\u001b[1m594000…\u001b[0m\u001b[1m \u001b[0m \u001b[1m \u001b[0m\u001b[1m000095…\u001b[0m\u001b[1m \u001b[0m \u001b[1m \u001b[0m\u001b[1m2024-1…\u001b[0m\u001b[1m \u001b[0m \u001b[1m \u001b[0m\u001b[1m2025.0\u001b[0m\u001b[1m \u001b[0m \u001b[1m \u001b[0m\u001b[1mQ2 \u001b[0m\u001b[1m \u001b[0m \u001b[1;38;5;71m \u001b[0m\u001b[1;38;5;71m10-Q  \u001b[0m\u001b[1;38;5;71m \u001b[0m \u001b[1;38;5;39m \u001b[0m\u001b[1;38;5;39m2025-…\u001b[0m\u001b[1;38;5;39m \u001b[0m \u001b[1m \u001b[0m\u001b[1mCY2024…\u001b[0m\u001b[1m \u001b[0m \u001b[1m \u001b[0m\u001b[1m2024-…\u001b[0m\u001b[1m \u001b[0m  │\n",
       "│                                                                                                                 │\n",
       "╰─────────────────────────────────────────────────────────────────────────────────────────────────────────────────╯"
      ]
     },
     "execution_count": 5,
     "metadata": {},
     "output_type": "execute_result"
    }
   ],
   "source": [
    "facts = c.get_facts()\n",
    "facts"
   ]
  },
  {
   "cell_type": "markdown",
   "id": "73299518-4c3c-43ba-b4fa-715ee1b28826",
   "metadata": {},
   "source": [
    "Convert the `CompanyFacts` object into a Pandas DataFrame.\n"
   ]
  },
  {
   "cell_type": "code",
   "execution_count": 6,
   "id": "3d2e0708-00d1-4463-b123-10e84a02a4f6",
   "metadata": {},
   "outputs": [
    {
     "data": {
      "text/html": [
       "<div>\n",
       "<style scoped>\n",
       "    .dataframe tbody tr th:only-of-type {\n",
       "        vertical-align: middle;\n",
       "    }\n",
       "\n",
       "    .dataframe tbody tr th {\n",
       "        vertical-align: top;\n",
       "    }\n",
       "\n",
       "    .dataframe thead th {\n",
       "        text-align: right;\n",
       "    }\n",
       "</style>\n",
       "<table border=\"1\" class=\"dataframe\">\n",
       "  <thead>\n",
       "    <tr style=\"text-align: right;\">\n",
       "      <th></th>\n",
       "      <th>namespace</th>\n",
       "      <th>fact</th>\n",
       "      <th>val</th>\n",
       "      <th>accn</th>\n",
       "      <th>end</th>\n",
       "      <th>fy</th>\n",
       "      <th>fp</th>\n",
       "      <th>form</th>\n",
       "      <th>filed</th>\n",
       "      <th>frame</th>\n",
       "      <th>start</th>\n",
       "    </tr>\n",
       "  </thead>\n",
       "  <tbody>\n",
       "    <tr>\n",
       "      <th>0</th>\n",
       "      <td>dei</td>\n",
       "      <td>EntityCommonStockSharesOutstanding</td>\n",
       "      <td>8.879121e+09</td>\n",
       "      <td>0001193125-09-212454</td>\n",
       "      <td>2009-10-19</td>\n",
       "      <td>2010.0</td>\n",
       "      <td>Q1</td>\n",
       "      <td>10-Q</td>\n",
       "      <td>2009-10-23</td>\n",
       "      <td>CY2009Q3I</td>\n",
       "      <td>None</td>\n",
       "    </tr>\n",
       "    <tr>\n",
       "      <th>1</th>\n",
       "      <td>dei</td>\n",
       "      <td>EntityCommonStockSharesOutstanding</td>\n",
       "      <td>8.770461e+09</td>\n",
       "      <td>0001193125-10-015598</td>\n",
       "      <td>2010-01-25</td>\n",
       "      <td>2010.0</td>\n",
       "      <td>Q2</td>\n",
       "      <td>10-Q</td>\n",
       "      <td>2010-01-28</td>\n",
       "      <td>CY2009Q4I</td>\n",
       "      <td>None</td>\n",
       "    </tr>\n",
       "    <tr>\n",
       "      <th>2</th>\n",
       "      <td>dei</td>\n",
       "      <td>EntityCommonStockSharesOutstanding</td>\n",
       "      <td>8.763839e+09</td>\n",
       "      <td>0001193125-10-090116</td>\n",
       "      <td>2010-04-19</td>\n",
       "      <td>2010.0</td>\n",
       "      <td>Q3</td>\n",
       "      <td>10-Q</td>\n",
       "      <td>2010-04-22</td>\n",
       "      <td>CY2010Q1I</td>\n",
       "      <td>None</td>\n",
       "    </tr>\n",
       "    <tr>\n",
       "      <th>3</th>\n",
       "      <td>dei</td>\n",
       "      <td>EntityCommonStockSharesOutstanding</td>\n",
       "      <td>8.653567e+09</td>\n",
       "      <td>0001193125-10-171791</td>\n",
       "      <td>2010-07-20</td>\n",
       "      <td>2010.0</td>\n",
       "      <td>FY</td>\n",
       "      <td>10-K</td>\n",
       "      <td>2010-07-30</td>\n",
       "      <td>CY2010Q2I</td>\n",
       "      <td>None</td>\n",
       "    </tr>\n",
       "    <tr>\n",
       "      <th>4</th>\n",
       "      <td>dei</td>\n",
       "      <td>EntityCommonStockSharesOutstanding</td>\n",
       "      <td>8.555523e+09</td>\n",
       "      <td>0001193125-10-239825</td>\n",
       "      <td>2010-10-22</td>\n",
       "      <td>2011.0</td>\n",
       "      <td>Q1</td>\n",
       "      <td>10-Q</td>\n",
       "      <td>2010-10-28</td>\n",
       "      <td>CY2010Q3I</td>\n",
       "      <td>None</td>\n",
       "    </tr>\n",
       "    <tr>\n",
       "      <th>...</th>\n",
       "      <td>...</td>\n",
       "      <td>...</td>\n",
       "      <td>...</td>\n",
       "      <td>...</td>\n",
       "      <td>...</td>\n",
       "      <td>...</td>\n",
       "      <td>...</td>\n",
       "      <td>...</td>\n",
       "      <td>...</td>\n",
       "      <td>...</td>\n",
       "      <td>...</td>\n",
       "    </tr>\n",
       "    <tr>\n",
       "      <th>29678</th>\n",
       "      <td>us-gaap</td>\n",
       "      <td>InterestExpenseNonoperating</td>\n",
       "      <td>1.434000e+09</td>\n",
       "      <td>0000950170-25-010491</td>\n",
       "      <td>2023-12-31</td>\n",
       "      <td>2025.0</td>\n",
       "      <td>Q2</td>\n",
       "      <td>10-Q</td>\n",
       "      <td>2025-01-29</td>\n",
       "      <td>None</td>\n",
       "      <td>2023-07-01</td>\n",
       "    </tr>\n",
       "    <tr>\n",
       "      <th>29679</th>\n",
       "      <td>us-gaap</td>\n",
       "      <td>InterestExpenseNonoperating</td>\n",
       "      <td>9.090000e+08</td>\n",
       "      <td>0000950170-25-010491</td>\n",
       "      <td>2023-12-31</td>\n",
       "      <td>2025.0</td>\n",
       "      <td>Q2</td>\n",
       "      <td>10-Q</td>\n",
       "      <td>2025-01-29</td>\n",
       "      <td>CY2023Q4</td>\n",
       "      <td>2023-10-01</td>\n",
       "    </tr>\n",
       "    <tr>\n",
       "      <th>29680</th>\n",
       "      <td>us-gaap</td>\n",
       "      <td>InterestExpenseNonoperating</td>\n",
       "      <td>5.820000e+08</td>\n",
       "      <td>0000950170-24-118967</td>\n",
       "      <td>2024-09-30</td>\n",
       "      <td>2025.0</td>\n",
       "      <td>Q1</td>\n",
       "      <td>10-Q</td>\n",
       "      <td>2024-10-30</td>\n",
       "      <td>CY2024Q3</td>\n",
       "      <td>2024-07-01</td>\n",
       "    </tr>\n",
       "    <tr>\n",
       "      <th>29681</th>\n",
       "      <td>us-gaap</td>\n",
       "      <td>InterestExpenseNonoperating</td>\n",
       "      <td>1.176000e+09</td>\n",
       "      <td>0000950170-25-010491</td>\n",
       "      <td>2024-12-31</td>\n",
       "      <td>2025.0</td>\n",
       "      <td>Q2</td>\n",
       "      <td>10-Q</td>\n",
       "      <td>2025-01-29</td>\n",
       "      <td>None</td>\n",
       "      <td>2024-07-01</td>\n",
       "    </tr>\n",
       "    <tr>\n",
       "      <th>29682</th>\n",
       "      <td>us-gaap</td>\n",
       "      <td>InterestExpenseNonoperating</td>\n",
       "      <td>5.940000e+08</td>\n",
       "      <td>0000950170-25-010491</td>\n",
       "      <td>2024-12-31</td>\n",
       "      <td>2025.0</td>\n",
       "      <td>Q2</td>\n",
       "      <td>10-Q</td>\n",
       "      <td>2025-01-29</td>\n",
       "      <td>CY2024Q4</td>\n",
       "      <td>2024-10-01</td>\n",
       "    </tr>\n",
       "  </tbody>\n",
       "</table>\n",
       "<p>29683 rows × 11 columns</p>\n",
       "</div>"
      ],
      "text/plain": [
       "      namespace                                fact           val  \\\n",
       "0           dei  EntityCommonStockSharesOutstanding  8.879121e+09   \n",
       "1           dei  EntityCommonStockSharesOutstanding  8.770461e+09   \n",
       "2           dei  EntityCommonStockSharesOutstanding  8.763839e+09   \n",
       "3           dei  EntityCommonStockSharesOutstanding  8.653567e+09   \n",
       "4           dei  EntityCommonStockSharesOutstanding  8.555523e+09   \n",
       "...         ...                                 ...           ...   \n",
       "29678   us-gaap         InterestExpenseNonoperating  1.434000e+09   \n",
       "29679   us-gaap         InterestExpenseNonoperating  9.090000e+08   \n",
       "29680   us-gaap         InterestExpenseNonoperating  5.820000e+08   \n",
       "29681   us-gaap         InterestExpenseNonoperating  1.176000e+09   \n",
       "29682   us-gaap         InterestExpenseNonoperating  5.940000e+08   \n",
       "\n",
       "                       accn         end      fy  fp  form       filed  \\\n",
       "0      0001193125-09-212454  2009-10-19  2010.0  Q1  10-Q  2009-10-23   \n",
       "1      0001193125-10-015598  2010-01-25  2010.0  Q2  10-Q  2010-01-28   \n",
       "2      0001193125-10-090116  2010-04-19  2010.0  Q3  10-Q  2010-04-22   \n",
       "3      0001193125-10-171791  2010-07-20  2010.0  FY  10-K  2010-07-30   \n",
       "4      0001193125-10-239825  2010-10-22  2011.0  Q1  10-Q  2010-10-28   \n",
       "...                     ...         ...     ...  ..   ...         ...   \n",
       "29678  0000950170-25-010491  2023-12-31  2025.0  Q2  10-Q  2025-01-29   \n",
       "29679  0000950170-25-010491  2023-12-31  2025.0  Q2  10-Q  2025-01-29   \n",
       "29680  0000950170-24-118967  2024-09-30  2025.0  Q1  10-Q  2024-10-30   \n",
       "29681  0000950170-25-010491  2024-12-31  2025.0  Q2  10-Q  2025-01-29   \n",
       "29682  0000950170-25-010491  2024-12-31  2025.0  Q2  10-Q  2025-01-29   \n",
       "\n",
       "           frame       start  \n",
       "0      CY2009Q3I        None  \n",
       "1      CY2009Q4I        None  \n",
       "2      CY2010Q1I        None  \n",
       "3      CY2010Q2I        None  \n",
       "4      CY2010Q3I        None  \n",
       "...          ...         ...  \n",
       "29678       None  2023-07-01  \n",
       "29679   CY2023Q4  2023-10-01  \n",
       "29680   CY2024Q3  2024-07-01  \n",
       "29681       None  2024-07-01  \n",
       "29682   CY2024Q4  2024-10-01  \n",
       "\n",
       "[29683 rows x 11 columns]"
      ]
     },
     "execution_count": 6,
     "metadata": {},
     "output_type": "execute_result"
    }
   ],
   "source": [
    "facts.to_pandas()"
   ]
  },
  {
   "cell_type": "markdown",
   "id": "1cb374cd-d26a-493f-bb91-c8155939c92d",
   "metadata": {},
   "source": [
    "Get a company's financials.\n"
   ]
  },
  {
   "cell_type": "code",
   "execution_count": 7,
   "id": "a822af5e-2539-432b-b2a7-4a3746cc6b5e",
   "metadata": {},
   "outputs": [],
   "source": [
    "financials = Company(\"MSFT\").financials"
   ]
  },
  {
   "cell_type": "code",
   "execution_count": 8,
   "id": "d4a19271-b0f1-42cb-9a3a-e2e7c78f8a72",
   "metadata": {},
   "outputs": [
    {
     "data": {
      "text/plain": [
       "edgar.financials.Financials"
      ]
     },
     "execution_count": 8,
     "metadata": {},
     "output_type": "execute_result"
    }
   ],
   "source": [
    "type(financials)"
   ]
  },
  {
   "cell_type": "markdown",
   "id": "6bba1fb7-1cd3-4c51-9785-1bc1dc9c540b",
   "metadata": {},
   "source": [
    "Retrieve the income statment.\n"
   ]
  },
  {
   "cell_type": "code",
   "execution_count": 11,
   "id": "88636fab-c4de-4a55-9d51-afccccf7db37",
   "metadata": {},
   "outputs": [
    {
     "data": {
      "text/html": [
       "<pre style=\"white-space:pre;overflow-x:auto;line-height:normal;font-family:Menlo,'DejaVu Sans Mono',consolas,'Courier New',monospace\"></pre>\n"
      ],
      "text/plain": []
     },
     "metadata": {},
     "output_type": "display_data"
    },
    {
     "data": {
      "text/plain": [
       "                                       \u001b[1;38;5;38mMICROSOFT CORPORATION\u001b[0m                                        \n",
       "                                         \u001b[1mIncome Statements\u001b[0m                                          \n",
       "                                               Annual                                               \n",
       "                                                                                                    \n",
       " \u001b[1m \u001b[0m\u001b[1m                                                  \u001b[0m\u001b[1m \u001b[0m \u001b[1m        \u001b[0m\u001b[1m \u001b[0m \u001b[1m      2024\u001b[0m\u001b[1m \u001b[0m \u001b[1m      2023\u001b[0m\u001b[1m \u001b[0m \u001b[1m      2022\u001b[0m\u001b[1m \u001b[0m \n",
       " ────────────────────────────────────────────────────────────────────────────────────────────────── \n",
       "  \u001b[38;5;242mRevenue                                           \u001b[0m  \u001b[2;38;5;249mmillions\u001b[0m  \u001b[38;5;242m   245,122\u001b[0m  \u001b[38;5;242m   211,915\u001b[0m  \u001b[38;5;242m   198,270\u001b[0m  \n",
       "  \u001b[38;5;242m  Product                                         \u001b[0m  \u001b[2;38;5;249mmillions\u001b[0m  \u001b[38;5;242m    64,773\u001b[0m  \u001b[38;5;242m    64,699\u001b[0m  \u001b[38;5;242m    72,732\u001b[0m  \n",
       "  \u001b[38;5;242m  Service and Other                               \u001b[0m  \u001b[2;38;5;249mmillions\u001b[0m  \u001b[38;5;242m   180,349\u001b[0m  \u001b[38;5;242m   147,216\u001b[0m  \u001b[38;5;242m   125,538\u001b[0m  \n",
       "  \u001b[38;5;242mCost of revenue                                   \u001b[0m  \u001b[2;38;5;249mmillions\u001b[0m  \u001b[38;5;242m(  74,114)\u001b[0m  \u001b[38;5;242m(  65,863)\u001b[0m  \u001b[38;5;242m(  62,650)\u001b[0m  \n",
       "  \u001b[38;5;242m  Product                                         \u001b[0m  \u001b[2;38;5;249mmillions\u001b[0m  \u001b[38;5;242m(  15,272)\u001b[0m  \u001b[38;5;242m(  17,804)\u001b[0m  \u001b[38;5;242m(  19,064)\u001b[0m  \n",
       "  \u001b[38;5;242m  Service and Other                               \u001b[0m  \u001b[2;38;5;249mmillions\u001b[0m  \u001b[38;5;242m(  58,842)\u001b[0m  \u001b[38;5;242m(  48,059)\u001b[0m  \u001b[38;5;242m(  43,586)\u001b[0m  \n",
       "  \u001b[1;38;5;32mGross margin                                      \u001b[0m  \u001b[2;38;5;249mmillions\u001b[0m  \u001b[1;38;5;32m   171,008\u001b[0m  \u001b[1;38;5;32m   146,052\u001b[0m  \u001b[1;38;5;32m   135,620\u001b[0m  \n",
       "  \u001b[38;5;242mResearch and development                          \u001b[0m  \u001b[2;38;5;249mmillions\u001b[0m  \u001b[38;5;242m(  29,510)\u001b[0m  \u001b[38;5;242m(  27,195)\u001b[0m  \u001b[38;5;242m(  24,512)\u001b[0m  \n",
       "  \u001b[38;5;242mSales and marketing                               \u001b[0m  \u001b[2;38;5;249mmillions\u001b[0m  \u001b[38;5;242m(  24,456)\u001b[0m  \u001b[38;5;242m(  22,759)\u001b[0m  \u001b[38;5;242m(  21,825)\u001b[0m  \n",
       "  \u001b[38;5;242mGeneral and administrative                        \u001b[0m  \u001b[2;38;5;249mmillions\u001b[0m  \u001b[38;5;242m(   7,609)\u001b[0m  \u001b[38;5;242m(   7,575)\u001b[0m  \u001b[38;5;242m(   5,900)\u001b[0m  \n",
       "  \u001b[1;38;5;32mOperating income                                  \u001b[0m  \u001b[2;38;5;249mmillions\u001b[0m  \u001b[1;38;5;32m   109,433\u001b[0m  \u001b[1;38;5;32m    88,523\u001b[0m  \u001b[1;38;5;32m    83,383\u001b[0m  \n",
       "  \u001b[38;5;242mOther income (expense), net                       \u001b[0m  \u001b[2;38;5;249mmillions\u001b[0m  \u001b[38;5;242m(   1,646)\u001b[0m  \u001b[38;5;242m       788\u001b[0m  \u001b[38;5;242m       333\u001b[0m  \n",
       "  \u001b[1;38;5;32mIncome before income taxes                        \u001b[0m  \u001b[2;38;5;249mmillions\u001b[0m  \u001b[1;38;5;32m   107,787\u001b[0m  \u001b[1;38;5;32m    89,311\u001b[0m  \u001b[1;38;5;32m    83,716\u001b[0m  \n",
       "  \u001b[38;5;242mProvision for income taxes                        \u001b[0m  \u001b[2;38;5;249mmillions\u001b[0m  \u001b[38;5;242m(  19,651)\u001b[0m  \u001b[38;5;242m(  16,950)\u001b[0m  \u001b[38;5;242m(  10,978)\u001b[0m  \n",
       "  \u001b[1;38;5;32mNet income                                        \u001b[0m  \u001b[2;38;5;249mmillions\u001b[0m  \u001b[1;38;5;32m    88,136\u001b[0m  \u001b[1;38;5;32m    72,361\u001b[0m  \u001b[1;38;5;32m    72,738\u001b[0m  \n",
       "  \u001b[38;5;242m  Basic                                           \u001b[0m  \u001b[2;38;5;249m        \u001b[0m  \u001b[38;5;242m     11.86\u001b[0m  \u001b[38;5;242m      9.72\u001b[0m  \u001b[38;5;242m       9.7\u001b[0m  \n",
       "  \u001b[38;5;242m  Diluted                                         \u001b[0m  \u001b[2;38;5;249m        \u001b[0m  \u001b[38;5;242m      11.8\u001b[0m  \u001b[38;5;242m      9.68\u001b[0m  \u001b[38;5;242m      9.65\u001b[0m  \n",
       "  \u001b[38;5;242m  Basic                                           \u001b[0m  \u001b[2;38;5;249mmillions\u001b[0m  \u001b[38;5;242m     7,431\u001b[0m  \u001b[38;5;242m     7,446\u001b[0m  \u001b[38;5;242m     7,496\u001b[0m  \n",
       "  \u001b[38;5;242m  Diluted                                         \u001b[0m  \u001b[2;38;5;249mmillions\u001b[0m  \u001b[38;5;242m     7,469\u001b[0m  \u001b[38;5;242m     7,472\u001b[0m  \u001b[38;5;242m     7,540\u001b[0m  \n",
       "                                                                                                    \n",
       "\n",
       "\u001b[2;38;5;250mAvailable durations for this statement:\u001b[0m\n",
       "\u001b[2;38;5;250m  \u001b[0m\u001b[2;38;5;250m3 Months\u001b[0m\u001b[2;38;5;250m  \u001b[0m  \u001b[1;38;5;32mAnnual\u001b[0m  "
      ]
     },
     "execution_count": 11,
     "metadata": {},
     "output_type": "execute_result"
    }
   ],
   "source": [
    "financials.income"
   ]
  },
  {
   "cell_type": "code",
   "execution_count": 13,
   "id": "ffd1872b-ba04-47cf-a0fd-32dbfe87a897",
   "metadata": {},
   "outputs": [
    {
     "data": {
      "text/html": [
       "<pre style=\"white-space:pre;overflow-x:auto;line-height:normal;font-family:Menlo,'DejaVu Sans Mono',consolas,'Courier New',monospace\"><span style=\"color: #008000; text-decoration-color: #008000; font-weight: bold\">Role_StatementINCOMESTATEMENTS</span>\n",
       "├── <span style=\"color: #008080; text-decoration-color: #008080\">Revenue</span>\n",
       "│   ├── <span style=\"color: #008080; text-decoration-color: #008080\">Product</span>\n",
       "│   └── <span style=\"color: #008080; text-decoration-color: #008080\">Service and Other</span>\n",
       "├── <span style=\"color: #008080; text-decoration-color: #008080\">Cost of revenue</span>\n",
       "│   ├── <span style=\"color: #008080; text-decoration-color: #008080\">Product</span>\n",
       "│   └── <span style=\"color: #008080; text-decoration-color: #008080\">Service and Other</span>\n",
       "├── <span style=\"color: #008080; text-decoration-color: #008080\">Gross margin</span>\n",
       "├── <span style=\"color: #008080; text-decoration-color: #008080\">Research and development</span>\n",
       "├── <span style=\"color: #008080; text-decoration-color: #008080\">Sales and marketing</span>\n",
       "├── <span style=\"color: #008080; text-decoration-color: #008080\">General and administrative</span>\n",
       "├── <span style=\"color: #008080; text-decoration-color: #008080\">Operating income</span>\n",
       "├── <span style=\"color: #008080; text-decoration-color: #008080\">Other income (expense), net</span>\n",
       "├── <span style=\"color: #008080; text-decoration-color: #008080\">Income before income taxes</span>\n",
       "├── <span style=\"color: #008080; text-decoration-color: #008080\">Provision for income taxes</span>\n",
       "└── <span style=\"color: #008080; text-decoration-color: #008080\">Net income</span>\n",
       "    ├── <span style=\"color: #008080; text-decoration-color: #008080\">Basic</span>\n",
       "    ├── <span style=\"color: #008080; text-decoration-color: #008080\">Diluted</span>\n",
       "    ├── <span style=\"color: #008080; text-decoration-color: #008080\">Basic</span>\n",
       "    └── <span style=\"color: #008080; text-decoration-color: #008080\">Diluted</span>\n",
       "</pre>\n"
      ],
      "text/plain": [
       "\u001b[1;32mRole_StatementINCOMESTATEMENTS\u001b[0m\n",
       "├── \u001b[36mRevenue\u001b[0m\n",
       "│   ├── \u001b[36mProduct\u001b[0m\n",
       "│   └── \u001b[36mService and Other\u001b[0m\n",
       "├── \u001b[36mCost of revenue\u001b[0m\n",
       "│   ├── \u001b[36mProduct\u001b[0m\n",
       "│   └── \u001b[36mService and Other\u001b[0m\n",
       "├── \u001b[36mGross margin\u001b[0m\n",
       "├── \u001b[36mResearch and development\u001b[0m\n",
       "├── \u001b[36mSales and marketing\u001b[0m\n",
       "├── \u001b[36mGeneral and administrative\u001b[0m\n",
       "├── \u001b[36mOperating income\u001b[0m\n",
       "├── \u001b[36mOther income (expense), net\u001b[0m\n",
       "├── \u001b[36mIncome before income taxes\u001b[0m\n",
       "├── \u001b[36mProvision for income taxes\u001b[0m\n",
       "└── \u001b[36mNet income\u001b[0m\n",
       "    ├── \u001b[36mBasic\u001b[0m\n",
       "    ├── \u001b[36mDiluted\u001b[0m\n",
       "    ├── \u001b[36mBasic\u001b[0m\n",
       "    └── \u001b[36mDiluted\u001b[0m\n"
      ]
     },
     "metadata": {},
     "output_type": "display_data"
    }
   ],
   "source": [
    "financials.income.print_structure()"
   ]
  },
  {
   "cell_type": "markdown",
   "id": "0fc42587-14a3-4ea4-980e-27eb53ba5cd0",
   "metadata": {},
   "source": [
    "Convert the income statement as a DataFrame.\n"
   ]
  },
  {
   "cell_type": "code",
   "execution_count": 14,
   "id": "732e55e3-34bb-4f21-8141-fe22098b1ad9",
   "metadata": {},
   "outputs": [
    {
     "data": {
      "text/html": [
       "<div>\n",
       "<style scoped>\n",
       "    .dataframe tbody tr th:only-of-type {\n",
       "        vertical-align: middle;\n",
       "    }\n",
       "\n",
       "    .dataframe tbody tr th {\n",
       "        vertical-align: top;\n",
       "    }\n",
       "\n",
       "    .dataframe thead th {\n",
       "        text-align: right;\n",
       "    }\n",
       "</style>\n",
       "<table border=\"1\" class=\"dataframe\">\n",
       "  <thead>\n",
       "    <tr style=\"text-align: right;\">\n",
       "      <th></th>\n",
       "      <th>2024</th>\n",
       "      <th>2023</th>\n",
       "      <th>2022</th>\n",
       "      <th>concept</th>\n",
       "    </tr>\n",
       "    <tr>\n",
       "      <th>label</th>\n",
       "      <th></th>\n",
       "      <th></th>\n",
       "      <th></th>\n",
       "      <th></th>\n",
       "    </tr>\n",
       "  </thead>\n",
       "  <tbody>\n",
       "    <tr>\n",
       "      <th>Revenue</th>\n",
       "      <td>245122000000</td>\n",
       "      <td>211915000000</td>\n",
       "      <td>198270000000</td>\n",
       "      <td>us-gaap_RevenueFromContractWithCustomerExcludi...</td>\n",
       "    </tr>\n",
       "    <tr>\n",
       "      <th>Product</th>\n",
       "      <td>64773000000</td>\n",
       "      <td>64699000000</td>\n",
       "      <td>72732000000</td>\n",
       "      <td>us-gaap_RevenueFromContractWithCustomerExcludi...</td>\n",
       "    </tr>\n",
       "    <tr>\n",
       "      <th>Service and Other</th>\n",
       "      <td>180349000000</td>\n",
       "      <td>147216000000</td>\n",
       "      <td>125538000000</td>\n",
       "      <td>us-gaap_RevenueFromContractWithCustomerExcludi...</td>\n",
       "    </tr>\n",
       "    <tr>\n",
       "      <th>Cost of revenue</th>\n",
       "      <td>-74114000000</td>\n",
       "      <td>-65863000000</td>\n",
       "      <td>-62650000000</td>\n",
       "      <td>us-gaap_CostOfGoodsAndServicesSold</td>\n",
       "    </tr>\n",
       "    <tr>\n",
       "      <th>Product</th>\n",
       "      <td>-15272000000</td>\n",
       "      <td>-17804000000</td>\n",
       "      <td>-19064000000</td>\n",
       "      <td>us-gaap_CostOfGoodsAndServicesSold</td>\n",
       "    </tr>\n",
       "    <tr>\n",
       "      <th>Service and Other</th>\n",
       "      <td>-58842000000</td>\n",
       "      <td>-48059000000</td>\n",
       "      <td>-43586000000</td>\n",
       "      <td>us-gaap_CostOfGoodsAndServicesSold</td>\n",
       "    </tr>\n",
       "    <tr>\n",
       "      <th>Gross margin</th>\n",
       "      <td>171008000000</td>\n",
       "      <td>146052000000</td>\n",
       "      <td>135620000000</td>\n",
       "      <td>us-gaap_GrossProfit</td>\n",
       "    </tr>\n",
       "    <tr>\n",
       "      <th>Research and development</th>\n",
       "      <td>-29510000000</td>\n",
       "      <td>-27195000000</td>\n",
       "      <td>-24512000000</td>\n",
       "      <td>us-gaap_ResearchAndDevelopmentExpense</td>\n",
       "    </tr>\n",
       "    <tr>\n",
       "      <th>Sales and marketing</th>\n",
       "      <td>-24456000000</td>\n",
       "      <td>-22759000000</td>\n",
       "      <td>-21825000000</td>\n",
       "      <td>us-gaap_SellingAndMarketingExpense</td>\n",
       "    </tr>\n",
       "    <tr>\n",
       "      <th>General and administrative</th>\n",
       "      <td>-7609000000</td>\n",
       "      <td>-7575000000</td>\n",
       "      <td>-5900000000</td>\n",
       "      <td>us-gaap_GeneralAndAdministrativeExpense</td>\n",
       "    </tr>\n",
       "    <tr>\n",
       "      <th>Operating income</th>\n",
       "      <td>109433000000</td>\n",
       "      <td>88523000000</td>\n",
       "      <td>83383000000</td>\n",
       "      <td>us-gaap_OperatingIncomeLoss</td>\n",
       "    </tr>\n",
       "    <tr>\n",
       "      <th>Other income (expense), net</th>\n",
       "      <td>-1646000000</td>\n",
       "      <td>788000000</td>\n",
       "      <td>333000000</td>\n",
       "      <td>us-gaap_NonoperatingIncomeExpense</td>\n",
       "    </tr>\n",
       "    <tr>\n",
       "      <th>Income before income taxes</th>\n",
       "      <td>107787000000</td>\n",
       "      <td>89311000000</td>\n",
       "      <td>83716000000</td>\n",
       "      <td>us-gaap_IncomeLossFromContinuingOperationsBefo...</td>\n",
       "    </tr>\n",
       "    <tr>\n",
       "      <th>Provision for income taxes</th>\n",
       "      <td>-19651000000</td>\n",
       "      <td>-16950000000</td>\n",
       "      <td>-10978000000</td>\n",
       "      <td>us-gaap_IncomeTaxExpenseBenefit</td>\n",
       "    </tr>\n",
       "    <tr>\n",
       "      <th>Net income</th>\n",
       "      <td>88136000000</td>\n",
       "      <td>72361000000</td>\n",
       "      <td>72738000000</td>\n",
       "      <td>us-gaap_NetIncomeLoss</td>\n",
       "    </tr>\n",
       "    <tr>\n",
       "      <th>Basic</th>\n",
       "      <td>11.86</td>\n",
       "      <td>9.72</td>\n",
       "      <td>9.70</td>\n",
       "      <td>us-gaap_EarningsPerShareBasic</td>\n",
       "    </tr>\n",
       "    <tr>\n",
       "      <th>Diluted</th>\n",
       "      <td>11.80</td>\n",
       "      <td>9.68</td>\n",
       "      <td>9.65</td>\n",
       "      <td>us-gaap_EarningsPerShareDiluted</td>\n",
       "    </tr>\n",
       "    <tr>\n",
       "      <th>Basic</th>\n",
       "      <td>7431000000</td>\n",
       "      <td>7446000000</td>\n",
       "      <td>7496000000</td>\n",
       "      <td>us-gaap_WeightedAverageNumberOfSharesOutstandi...</td>\n",
       "    </tr>\n",
       "    <tr>\n",
       "      <th>Diluted</th>\n",
       "      <td>7469000000</td>\n",
       "      <td>7472000000</td>\n",
       "      <td>7540000000</td>\n",
       "      <td>us-gaap_WeightedAverageNumberOfDilutedSharesOu...</td>\n",
       "    </tr>\n",
       "  </tbody>\n",
       "</table>\n",
       "</div>"
      ],
      "text/plain": [
       "                                     2024          2023          2022  \\\n",
       "label                                                                   \n",
       "Revenue                      245122000000  211915000000  198270000000   \n",
       "Product                       64773000000   64699000000   72732000000   \n",
       "Service and Other            180349000000  147216000000  125538000000   \n",
       "Cost of revenue              -74114000000  -65863000000  -62650000000   \n",
       "Product                      -15272000000  -17804000000  -19064000000   \n",
       "Service and Other            -58842000000  -48059000000  -43586000000   \n",
       "Gross margin                 171008000000  146052000000  135620000000   \n",
       "Research and development     -29510000000  -27195000000  -24512000000   \n",
       "Sales and marketing          -24456000000  -22759000000  -21825000000   \n",
       "General and administrative    -7609000000   -7575000000   -5900000000   \n",
       "Operating income             109433000000   88523000000   83383000000   \n",
       "Other income (expense), net   -1646000000     788000000     333000000   \n",
       "Income before income taxes   107787000000   89311000000   83716000000   \n",
       "Provision for income taxes   -19651000000  -16950000000  -10978000000   \n",
       "Net income                    88136000000   72361000000   72738000000   \n",
       "Basic                               11.86          9.72          9.70   \n",
       "Diluted                             11.80          9.68          9.65   \n",
       "Basic                          7431000000    7446000000    7496000000   \n",
       "Diluted                        7469000000    7472000000    7540000000   \n",
       "\n",
       "                                                                       concept  \n",
       "label                                                                           \n",
       "Revenue                      us-gaap_RevenueFromContractWithCustomerExcludi...  \n",
       "Product                      us-gaap_RevenueFromContractWithCustomerExcludi...  \n",
       "Service and Other            us-gaap_RevenueFromContractWithCustomerExcludi...  \n",
       "Cost of revenue                             us-gaap_CostOfGoodsAndServicesSold  \n",
       "Product                                     us-gaap_CostOfGoodsAndServicesSold  \n",
       "Service and Other                           us-gaap_CostOfGoodsAndServicesSold  \n",
       "Gross margin                                               us-gaap_GrossProfit  \n",
       "Research and development                 us-gaap_ResearchAndDevelopmentExpense  \n",
       "Sales and marketing                         us-gaap_SellingAndMarketingExpense  \n",
       "General and administrative             us-gaap_GeneralAndAdministrativeExpense  \n",
       "Operating income                                   us-gaap_OperatingIncomeLoss  \n",
       "Other income (expense), net                  us-gaap_NonoperatingIncomeExpense  \n",
       "Income before income taxes   us-gaap_IncomeLossFromContinuingOperationsBefo...  \n",
       "Provision for income taxes                     us-gaap_IncomeTaxExpenseBenefit  \n",
       "Net income                                               us-gaap_NetIncomeLoss  \n",
       "Basic                                            us-gaap_EarningsPerShareBasic  \n",
       "Diluted                                        us-gaap_EarningsPerShareDiluted  \n",
       "Basic                        us-gaap_WeightedAverageNumberOfSharesOutstandi...  \n",
       "Diluted                      us-gaap_WeightedAverageNumberOfDilutedSharesOu...  "
      ]
     },
     "execution_count": 14,
     "metadata": {},
     "output_type": "execute_result"
    }
   ],
   "source": [
    "financials.income.get_dataframe()"
   ]
  }
 ],
 "metadata": {
  "kernelspec": {
   "display_name": "Python 3 (ipykernel)",
   "language": "python",
   "name": "python3"
  },
  "language_info": {
   "codemirror_mode": {
    "name": "ipython",
    "version": 3
   },
   "file_extension": ".py",
   "mimetype": "text/x-python",
   "name": "python",
   "nbconvert_exporter": "python",
   "pygments_lexer": "ipython3",
   "version": "3.10.10"
  }
 },
 "nbformat": 4,
 "nbformat_minor": 5
}
