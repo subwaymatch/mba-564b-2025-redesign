{
 "cells": [
  {
   "cell_type": "markdown",
   "id": "4878b033-f52f-42bc-818a-44b058958bc2",
   "metadata": {},
   "source": [
    "# SQL to Dashboard\n",
    "\n",
    "[Chinook](https://github.com/lerocha/chinook-database) is a sample database available for SQL Server, Oracle, MySQL, etc. It can be created by running a single SQL script. Chinook database is an alternative to the Northwind database, being ideal for demos and testing ORM tools targeting single and multiple database servers."
   ]
  },
  {
   "cell_type": "code",
   "execution_count": null,
   "id": "893ab040-d421-4580-a89f-df1ba62d3fb2",
   "metadata": {},
   "outputs": [],
   "source": []
  }
 ],
 "metadata": {
  "kernelspec": {
   "display_name": "Python 3 (ipykernel)",
   "language": "python",
   "name": "python3"
  },
  "language_info": {
   "codemirror_mode": {
    "name": "ipython",
    "version": 3
   },
   "file_extension": ".py",
   "mimetype": "text/x-python",
   "name": "python",
   "nbconvert_exporter": "python",
   "pygments_lexer": "ipython3",
   "version": "3.10.10"
  }
 },
 "nbformat": 4,
 "nbformat_minor": 5
}
