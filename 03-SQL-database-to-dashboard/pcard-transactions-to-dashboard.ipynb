{
 "cells": [
  {
   "cell_type": "code",
   "execution_count": 28,
   "id": "9a95d3ca",
   "metadata": {},
   "outputs": [
    {
     "name": "stdout",
     "output_type": "stream",
     "text": [
      "Requirement already satisfied: duckdb in c:\\users\\park\\miniforge3\\envs\\gies\\lib\\site-packages (1.2.2)Note: you may need to restart the kernel to use updated packages.\n",
      "\n"
     ]
    }
   ],
   "source": [
    "%pip install duckdb"
   ]
  },
  {
   "cell_type": "code",
   "execution_count": 29,
   "id": "510159f8",
   "metadata": {},
   "outputs": [],
   "source": [
    "import pandas as pd\n",
    "import duckdb"
   ]
  },
  {
   "cell_type": "code",
   "execution_count": 30,
   "id": "f9d19de4",
   "metadata": {},
   "outputs": [
    {
     "data": {
      "text/plain": [
       "<duckdb.duckdb.DuckDBPyConnection at 0x253b4ac7570>"
      ]
     },
     "execution_count": 30,
     "metadata": {},
     "output_type": "execute_result"
    }
   ],
   "source": [
    "# Create a DuckDB connection and read a CSV file into a DuckDB table\n",
    "db = duckdb.connect()\n",
    "db.execute(\n",
    "    \"\"\"\n",
    "    CREATE TABLE transactions AS\n",
    "    SELECT * FROM read_parquet('https://raw.githubusercontent.com/subwaymatch/mba564b-2025-redesign/main/03-SQL-database-to-dashboard/data/state-of-delaware-pcard-transactions.parquet');\n",
    "\"\"\"\n",
    ")"
   ]
  },
  {
   "cell_type": "code",
   "execution_count": 31,
   "id": "4d78ccda",
   "metadata": {},
   "outputs": [
    {
     "data": {
      "text/plain": [
       "┌─────────────┬───────────────┬────────────────────┬────────────────────────┬───────────────────────┬────────────────────────────────────────────────────┬─────────────────────┬────────┐\n",
       "│ fiscal_year │ fiscal_period │     department     │        division        │       merchant        │                category_description                │  transaction_date   │ amount │\n",
       "│    int64    │     int64     │      varchar       │        varchar         │        varchar        │                      varchar                       │    timestamp_ns     │ double │\n",
       "├─────────────┼───────────────┼────────────────────┼────────────────────────┼───────────────────────┼────────────────────────────────────────────────────┼─────────────────────┼────────┤\n",
       "│        2017 │             1 │ LEGISLATIVE BRANCH │ General Assembly House │ VZWRLSS*APOCC VISB    │ Telecom Incl Prepaid-Recurring Phone Svcs          │ 2016-07-14 00:00:00 │  11.65 │\n",
       "│        2017 │             1 │ LEGISLATIVE BRANCH │ General Assembly House │ GAN*NEWSPAPER SUB1052 │ Direct Marketing-Continuity-Subscription Merchants │ 2016-07-05 00:00:00 │   15.0 │\n",
       "└─────────────┴───────────────┴────────────────────┴────────────────────────┴───────────────────────┴────────────────────────────────────────────────────┴─────────────────────┴────────┘"
      ]
     },
     "execution_count": 31,
     "metadata": {},
     "output_type": "execute_result"
    }
   ],
   "source": [
    "db.sql(\"SELECT * FROM transactions LIMIT 2;\")"
   ]
  },
  {
   "cell_type": "code",
   "execution_count": 32,
   "id": "7d107831",
   "metadata": {},
   "outputs": [
    {
     "data": {
      "text/plain": [
       "┌──────────┐\n",
       "│ num_rows │\n",
       "│  int64   │\n",
       "├──────────┤\n",
       "│  1585108 │\n",
       "└──────────┘"
      ]
     },
     "execution_count": 32,
     "metadata": {},
     "output_type": "execute_result"
    }
   ],
   "source": [
    "query_num_rows = db.sql(\"SELECT COUNT(*) AS num_rows FROM transactions;\")\n",
    "query_num_rows"
   ]
  },
  {
   "cell_type": "code",
   "execution_count": 33,
   "id": "fc76c4fd",
   "metadata": {},
   "outputs": [
    {
     "data": {
      "text/plain": [
       "┌────────────────────────────────┬────────────────────┐\n",
       "│           department           │    total_spent     │\n",
       "│            varchar             │       double       │\n",
       "├────────────────────────────────┼────────────────────┤\n",
       "│ DEPT OF CORRECTIONS            │ 213372349.32000133 │\n",
       "│ DEPT OF TRANSPORTATION         │ 105867360.91000076 │\n",
       "│ DEPT OF NATRL RES AND ENV CONT │  40121062.60000045 │\n",
       "│ DEL TECH AND COMM COLLEGE      │  38555314.62000014 │\n",
       "│ EXECUTIVE                      │  28860860.46999994 │\n",
       "│ DEPT OF TECHNOLOGY AND INFOR   │ 27838467.730000023 │\n",
       "│ DEPT OF SAFETY AND HOMELAND    │  22436893.33999991 │\n",
       "│ DEPT OF HEALTH AND SOCIAL SV   │ 22131629.409999818 │\n",
       "│ DEPT OF STATE                  │ 17263785.379999902 │\n",
       "│ APPOQUINIMINK SCHOOL DISTRICT  │ 14194091.139999807 │\n",
       "├────────────────────────────────┴────────────────────┤\n",
       "│ 10 rows                                   2 columns │\n",
       "└─────────────────────────────────────────────────────┘"
      ]
     },
     "execution_count": 33,
     "metadata": {},
     "output_type": "execute_result"
    }
   ],
   "source": [
    "query_top_10_departments = db.sql(\n",
    "    \"\"\"SELECT department, SUM(amount) AS total_spent\n",
    "        FROM transactions\n",
    "        GROUP BY department\n",
    "        ORDER BY total_spent DESC\n",
    "        LIMIT 10;\n",
    "\"\"\"\n",
    ")\n",
    "\n",
    "query_top_10_departments"
   ]
  },
  {
   "cell_type": "code",
   "execution_count": 34,
   "id": "00652112",
   "metadata": {},
   "outputs": [
    {
     "data": {
      "text/plain": [
       "┌─────────────┬───────────────┬────────────────────────────────┬────────────────────────────────┬─────────────────────────┬───────────────────────────────────────────────────┬─────────────────────┬──────────┐\n",
       "│ fiscal_year │ fiscal_period │           department           │            division            │        merchant         │               category_description                │  transaction_date   │  amount  │\n",
       "│    int64    │     int64     │            varchar             │            varchar             │         varchar         │                      varchar                      │    timestamp_ns     │  double  │\n",
       "├─────────────┼───────────────┼────────────────────────────────┼────────────────────────────────┼─────────────────────────┼───────────────────────────────────────────────────┼─────────────────────┼──────────┤\n",
       "│        2025 │             1 │ EXECUTIVE                      │ Fleet Management               │ MILFORD CHEVY OFFICE    │ Auto Truck Dlrs-Sales Svc Reprs Prts Leasing      │ 2024-06-28 00:00:00 │ 13089.13 │\n",
       "│        2025 │             1 │ EXECUTIVE                      │ Fleet Management               │ E ZPASS DE CSC00100701  │ Bridge And Road Fees Tolls                        │ 2024-07-26 00:00:00 │  16650.0 │\n",
       "│        2025 │             1 │ DEPT OF TECHNOLOGY AND INFOR   │ Chief Operating Officer        │ VERIZON BILL PAYMENT    │ Telecom Incl Prepaid-Recurring Phone Svcs         │ 2024-07-10 00:00:00 │ 83516.17 │\n",
       "│        2025 │             1 │ DEPT OF TECHNOLOGY AND INFOR   │ Chief Operating Officer        │ VERIZON BILL PAYMENT    │ Telecom Incl Prepaid-Recurring Phone Svcs         │ 2024-07-10 00:00:00 │ 16664.04 │\n",
       "│        2025 │             1 │ DEPT OF TECHNOLOGY AND INFOR   │ Chief Operating Officer        │ VERIZON BILL PAYMENT    │ Telecom Incl Prepaid-Recurring Phone Svcs         │ 2024-07-13 00:00:00 │ 14391.54 │\n",
       "│        2025 │             1 │ LEGAL                          │ Department of Justice          │ THOMSON WEST*TCD        │ Professional Services-Not Elsewhere Classified    │ 2024-07-23 00:00:00 │ 13142.52 │\n",
       "│        2025 │             1 │ DEPT OF STATE                  │ Government Information Center  │ WRIKE.COM               │ Comp Programing Data Prcsng Intgrtd Sys Dsgn Srvs │ 2024-06-30 00:00:00 │  10800.0 │\n",
       "│        2025 │             1 │ DEPT OF CORRECTIONS            │ James T Vaughn Correctional C  │ FOOD EXPRESS USA        │ Miscellaneous And Specialty Retail Stores         │ 2024-07-10 00:00:00 │ 12411.44 │\n",
       "│        2025 │             1 │ DEPT OF CORRECTIONS            │ James T Vaughn Correctional C  │ CAPITOL CLEANERS NEW ST │ Dry Cleaners                                      │ 2024-07-03 00:00:00 │  13021.8 │\n",
       "│        2025 │             1 │ DEPT OF CORRECTIONS            │ James T Vaughn Correctional C  │ FOOD EXPRESS USA        │ Miscellaneous And Specialty Retail Stores         │ 2024-07-10 00:00:00 │ 12910.06 │\n",
       "│          ·  │             · │          ·                     │           ·                    │        ·                │                   ·                               │          ·          │     ·    │\n",
       "│          ·  │             · │          ·                     │           ·                    │        ·                │                   ·                               │          ·          │     ·    │\n",
       "│          ·  │             · │          ·                     │           ·                    │        ·                │                   ·                               │          ·          │     ·    │\n",
       "│        2025 │             9 │ DEPT OF TRANSPORTATION         │ Maintenance Districts          │ MONTAGE ENTERPRISES     │ Durable Goods Not Elsewhere Classified            │ 2025-03-26 00:00:00 │ 20282.26 │\n",
       "│        2025 │             9 │ DEL TECH AND COMM COLLEGE      │ DTCC - Office of the President │ AER LINGU27SVHJ         │ Airline                                           │ 2025-02-26 00:00:00 │ 13667.36 │\n",
       "│        2025 │             9 │ DEL TECH AND COMM COLLEGE      │ DTCC - Office of the President │ AER LINGU2ENRX2         │ Airline                                           │ 2025-02-26 00:00:00 │ 22728.51 │\n",
       "│        2025 │             9 │ DEL TECH AND COMM COLLEGE      │ DTCC - Office of the President │ INTUIT *QUICKBOOKS      │ Computer Software Stores                          │ 2025-03-07 00:00:00 │  17998.0 │\n",
       "│        2025 │             9 │ DEL TECH AND COMM COLLEGE      │ Owens Campus                   │ HARRELL'S LLC           │ Landscaping And Horticultural Services            │ 2025-03-07 00:00:00 │ 14967.99 │\n",
       "│        2025 │             9 │ DEL TECH AND COMM COLLEGE      │ Owens Campus                   │ GRAINGER                │ Industrial Supplies Not Elsewhere Classified      │ 2025-03-11 00:00:00 │ 15395.96 │\n",
       "│        2025 │             9 │ DEL TECH AND COMM COLLEGE      │ Owens Campus                   │ GRAINGER                │ Industrial Supplies Not Elsewhere Classified      │ 2025-03-20 00:00:00 │ 14814.81 │\n",
       "│        2025 │             9 │ RED CLAY CONSOLIDATED SCH DIST │ Red Clay Consolidated Sch Dist │ FCC                     │ Government Services-Not Elsewhere Classified      │ 2025-03-26 00:00:00 │  24999.0 │\n",
       "│        2025 │             9 │ COLONIAL SCHOOL DISTRICT       │ Colonial School District       │ PST*POWERSCHOOL         │ Comp Programing Data Prcsng Intgrtd Sys Dsgn Srvs │ 2025-03-19 00:00:00 │ 27728.99 │\n",
       "│        2025 │             9 │ COLONIAL SCHOOL DISTRICT       │ Colonial School District       │ PST*POWERSCHOOL         │ Comp Programing Data Prcsng Intgrtd Sys Dsgn Srvs │ 2025-03-18 00:00:00 │ 23431.28 │\n",
       "├─────────────┴───────────────┴────────────────────────────────┴────────────────────────────────┴─────────────────────────┴───────────────────────────────────────────────────┴─────────────────────┴──────────┤\n",
       "│ 752 rows (20 shown)                                                                                                                                                                                8 columns │\n",
       "└──────────────────────────────────────────────────────────────────────────────────────────────────────────────────────────────────────────────────────────────────────────────────────────────────────────────┘"
      ]
     },
     "execution_count": 34,
     "metadata": {},
     "output_type": "execute_result"
    }
   ],
   "source": [
    "query_2025 = db.sql(\n",
    "    \"SELECT * FROM transactions WHERE fiscal_year = 2025 AND amount > 10000;\"\n",
    ")\n",
    "query_2025"
   ]
  }
 ],
 "metadata": {
  "kernelspec": {
   "display_name": "gies",
   "language": "python",
   "name": "python3"
  },
  "language_info": {
   "codemirror_mode": {
    "name": "ipython",
    "version": 3
   },
   "file_extension": ".py",
   "mimetype": "text/x-python",
   "name": "python",
   "nbconvert_exporter": "python",
   "pygments_lexer": "ipython3",
   "version": "3.12.5"
  }
 },
 "nbformat": 4,
 "nbformat_minor": 5
}
