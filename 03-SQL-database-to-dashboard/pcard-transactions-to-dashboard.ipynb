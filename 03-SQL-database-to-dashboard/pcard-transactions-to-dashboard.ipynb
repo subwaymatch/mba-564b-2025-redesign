{
 "cells": [
  {
   "cell_type": "code",
   "execution_count": 20,
   "id": "9a95d3ca",
   "metadata": {},
   "outputs": [
    {
     "name": "stdout",
     "output_type": "stream",
     "text": [
      "Requirement already satisfied: duckdb in c:\\users\\park\\miniforge3\\envs\\gies\\lib\\site-packages (1.2.2)\n",
      "Note: you may need to restart the kernel to use updated packages.\n"
     ]
    }
   ],
   "source": [
    "%pip install duckdb"
   ]
  },
  {
   "cell_type": "code",
   "execution_count": 2,
   "id": "510159f8",
   "metadata": {},
   "outputs": [],
   "source": [
    "import pandas as pd\n",
    "import duckdb"
   ]
  },
  {
   "cell_type": "code",
   "execution_count": 8,
   "id": "f9d19de4",
   "metadata": {},
   "outputs": [
    {
     "data": {
      "text/plain": [
       "<duckdb.duckdb.DuckDBPyConnection at 0x271820217f0>"
      ]
     },
     "execution_count": 8,
     "metadata": {},
     "output_type": "execute_result"
    }
   ],
   "source": [
    "# Create a DuckDB connection and read a CSV file into a DuckDB table\n",
    "con = duckdb.connect()\n",
    "con.execute(\n",
    "    \"\"\"\n",
    "    CREATE TABLE transactions AS\n",
    "    SELECT * FROM read_parquet('data/state-of-delaware-pcard-transactions.parquet');\n",
    "\"\"\"\n",
    ")"
   ]
  },
  {
   "cell_type": "code",
   "execution_count": 9,
   "id": "4d78ccda",
   "metadata": {},
   "outputs": [
    {
     "data": {
      "text/plain": [
       "┌─────────────┬───────────────┬────────────────────┬────────────────────────┬───────────────────────┬────────────────────────────────────────────────────┬─────────────────────┬────────┐\n",
       "│ fiscal_year │ fiscal_period │     department     │        division        │       merchant        │                category_description                │  transaction_date   │ amount │\n",
       "│    int64    │     int64     │      varchar       │        varchar         │        varchar        │                      varchar                       │    timestamp_ns     │ double │\n",
       "├─────────────┼───────────────┼────────────────────┼────────────────────────┼───────────────────────┼────────────────────────────────────────────────────┼─────────────────────┼────────┤\n",
       "│        2017 │             1 │ LEGISLATIVE BRANCH │ General Assembly House │ VZWRLSS*APOCC VISB    │ Telecom Incl Prepaid-Recurring Phone Svcs          │ 2016-07-14 00:00:00 │  11.65 │\n",
       "│        2017 │             1 │ LEGISLATIVE BRANCH │ General Assembly House │ GAN*NEWSPAPER SUB1052 │ Direct Marketing-Continuity-Subscription Merchants │ 2016-07-05 00:00:00 │   15.0 │\n",
       "└─────────────┴───────────────┴────────────────────┴────────────────────────┴───────────────────────┴────────────────────────────────────────────────────┴─────────────────────┴────────┘"
      ]
     },
     "execution_count": 9,
     "metadata": {},
     "output_type": "execute_result"
    }
   ],
   "source": [
    "con.sql(\"SELECT * FROM transactions LIMIT 2;\")"
   ]
  },
  {
   "cell_type": "code",
   "execution_count": 5,
   "id": "7d107831",
   "metadata": {},
   "outputs": [
    {
     "data": {
      "text/plain": [
       "┌──────────┐\n",
       "│ num_rows │\n",
       "│  int64   │\n",
       "├──────────┤\n",
       "│  1585108 │\n",
       "└──────────┘"
      ]
     },
     "execution_count": 5,
     "metadata": {},
     "output_type": "execute_result"
    }
   ],
   "source": [
    "con.sql(\"SELECT COUNT(*) AS num_rows FROM transactions;\")"
   ]
  },
  {
   "cell_type": "code",
   "execution_count": 7,
   "id": "fc76c4fd",
   "metadata": {},
   "outputs": [
    {
     "data": {
      "text/plain": [
       "┌────────────────────────────────┬────────────────────┐\n",
       "│           department           │    total_spent     │\n",
       "│            varchar             │       double       │\n",
       "├────────────────────────────────┼────────────────────┤\n",
       "│ DEPT OF CORRECTIONS            │ 213372349.32000127 │\n",
       "│ DEPT OF TRANSPORTATION         │ 105867360.91000077 │\n",
       "│ DEPT OF NATRL RES AND ENV CONT │  40121062.60000044 │\n",
       "│ DEL TECH AND COMM COLLEGE      │  38555314.62000014 │\n",
       "│ EXECUTIVE                      │  28860860.46999994 │\n",
       "│ DEPT OF TECHNOLOGY AND INFOR   │  27838467.73000002 │\n",
       "│ DEPT OF SAFETY AND HOMELAND    │ 22436893.339999907 │\n",
       "│ DEPT OF HEALTH AND SOCIAL SV   │ 22131629.409999818 │\n",
       "│ DEPT OF STATE                  │ 17263785.379999906 │\n",
       "│ APPOQUINIMINK SCHOOL DISTRICT  │ 14194091.139999807 │\n",
       "├────────────────────────────────┴────────────────────┤\n",
       "│ 10 rows                                   2 columns │\n",
       "└─────────────────────────────────────────────────────┘"
      ]
     },
     "execution_count": 7,
     "metadata": {},
     "output_type": "execute_result"
    }
   ],
   "source": [
    "con.sql(\n",
    "    \"\"\"SELECT department, SUM(amount) AS total_spent\n",
    "        FROM transactions\n",
    "        GROUP BY department\n",
    "        ORDER BY total_spent DESC\n",
    "        LIMIT 10;\n",
    "\"\"\"\n",
    ")"
   ]
  }
 ],
 "metadata": {
  "kernelspec": {
   "display_name": "gies",
   "language": "python",
   "name": "python3"
  },
  "language_info": {
   "codemirror_mode": {
    "name": "ipython",
    "version": 3
   },
   "file_extension": ".py",
   "mimetype": "text/x-python",
   "name": "python",
   "nbconvert_exporter": "python",
   "pygments_lexer": "ipython3",
   "version": "3.12.5"
  }
 },
 "nbformat": 4,
 "nbformat_minor": 5
}
