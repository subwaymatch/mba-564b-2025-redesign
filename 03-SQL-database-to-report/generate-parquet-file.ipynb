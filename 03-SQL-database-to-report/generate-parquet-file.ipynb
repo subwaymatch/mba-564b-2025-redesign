{
 "cells": [
  {
   "cell_type": "markdown",
   "id": "649d91b6",
   "metadata": {},
   "source": [
    "# Convert the CSV file to parquet format\n",
    "\n",
    "Parquet is a columnar storage file format designed for efficient data storage and retrieval, especially for analytics workloads. It is widely used in modern data engineering pipelines and supported by tools like DuckDB, Spark, BigQuery, AWS Athena, and Snowflake.\n",
    "\n",
    "## 📦 What is Parquet?\n",
    "\n",
    "- **Columnar**: Stores data by column, not by row\n",
    "- **Binary format**: Efficient and compact\n",
    "- **Self-describing**: Stores schema and metadata with the data\n",
    "- **Supports compression**: e.g., Snappy, Gzip\n",
    "- **Splittable**: Great for parallel processing\n",
    "\n",
    "This notebook converts a CSV file to parquet using Pandas and PyArrow.\n"
   ]
  },
  {
   "cell_type": "code",
   "execution_count": 8,
   "id": "1c94b6d0",
   "metadata": {},
   "outputs": [],
   "source": [
    "import pandas as pd"
   ]
  },
  {
   "cell_type": "code",
   "execution_count": 9,
   "id": "39010862",
   "metadata": {},
   "outputs": [
    {
     "data": {
      "text/html": [
       "<div>\n",
       "<style scoped>\n",
       "    .dataframe tbody tr th:only-of-type {\n",
       "        vertical-align: middle;\n",
       "    }\n",
       "\n",
       "    .dataframe tbody tr th {\n",
       "        vertical-align: top;\n",
       "    }\n",
       "\n",
       "    .dataframe thead th {\n",
       "        text-align: right;\n",
       "    }\n",
       "</style>\n",
       "<table border=\"1\" class=\"dataframe\">\n",
       "  <thead>\n",
       "    <tr style=\"text-align: right;\">\n",
       "      <th></th>\n",
       "      <th>fiscal_year</th>\n",
       "      <th>fiscal_period</th>\n",
       "      <th>department</th>\n",
       "      <th>division</th>\n",
       "      <th>merchant</th>\n",
       "      <th>category_description</th>\n",
       "      <th>transaction_date</th>\n",
       "      <th>amount</th>\n",
       "    </tr>\n",
       "  </thead>\n",
       "  <tbody>\n",
       "    <tr>\n",
       "      <th>0</th>\n",
       "      <td>2017</td>\n",
       "      <td>1</td>\n",
       "      <td>LEGISLATIVE BRANCH</td>\n",
       "      <td>General Assembly House</td>\n",
       "      <td>VZWRLSS*APOCC VISB</td>\n",
       "      <td>Telecom Incl Prepaid-Recurring Phone Svcs</td>\n",
       "      <td>2016-07-14</td>\n",
       "      <td>11.65</td>\n",
       "    </tr>\n",
       "    <tr>\n",
       "      <th>1</th>\n",
       "      <td>2017</td>\n",
       "      <td>1</td>\n",
       "      <td>LEGISLATIVE BRANCH</td>\n",
       "      <td>General Assembly House</td>\n",
       "      <td>GAN*NEWSPAPER SUB1052</td>\n",
       "      <td>Direct Marketing-Continuity-Subscription Merch...</td>\n",
       "      <td>2016-07-05</td>\n",
       "      <td>15.00</td>\n",
       "    </tr>\n",
       "  </tbody>\n",
       "</table>\n",
       "</div>"
      ],
      "text/plain": [
       "   fiscal_year  fiscal_period          department                division  \\\n",
       "0         2017              1  LEGISLATIVE BRANCH  General Assembly House   \n",
       "1         2017              1  LEGISLATIVE BRANCH  General Assembly House   \n",
       "\n",
       "                merchant                               category_description  \\\n",
       "0     VZWRLSS*APOCC VISB          Telecom Incl Prepaid-Recurring Phone Svcs   \n",
       "1  GAN*NEWSPAPER SUB1052  Direct Marketing-Continuity-Subscription Merch...   \n",
       "\n",
       "  transaction_date  amount  \n",
       "0       2016-07-14   11.65  \n",
       "1       2016-07-05   15.00  "
      ]
     },
     "execution_count": 9,
     "metadata": {},
     "output_type": "execute_result"
    }
   ],
   "source": [
    "df = pd.read_csv(\n",
    "    \"data/state-of-delaware-pcard-transactions.csv.gz\",\n",
    "    compression=\"gzip\",\n",
    "    parse_dates=[\"TRANS_DT\"],\n",
    ")\n",
    "df.rename(\n",
    "    columns={\n",
    "        \"FISCAL_YEAR\": \"fiscal_year\",\n",
    "        \"FISCAL_PERIOD\": \"fiscal_period\",\n",
    "        \"DEPT_NAME\": \"department\",\n",
    "        \"DIV_NAME\": \"division\",\n",
    "        \"MERCHANT\": \"merchant\",\n",
    "        \"CAT_DESCR\": \"category_description\",\n",
    "        \"TRANS_DT\": \"transaction_date\",\n",
    "        \"MERCHANDISE_AMT\": \"amount\",\n",
    "    },\n",
    "    inplace=True,\n",
    ")\n",
    "df.head(2)"
   ]
  },
  {
   "cell_type": "code",
   "execution_count": 10,
   "id": "5373b9bf",
   "metadata": {},
   "outputs": [],
   "source": [
    "df.to_parquet(\"data/state-of-delaware-pcard-transactions.parquet\", index=False)"
   ]
  }
 ],
 "metadata": {
  "kernelspec": {
   "display_name": "gies",
   "language": "python",
   "name": "python3"
  },
  "language_info": {
   "codemirror_mode": {
    "name": "ipython",
    "version": 3
   },
   "file_extension": ".py",
   "mimetype": "text/x-python",
   "name": "python",
   "nbconvert_exporter": "python",
   "pygments_lexer": "ipython3",
   "version": "3.12.5"
  }
 },
 "nbformat": 4,
 "nbformat_minor": 5
}
