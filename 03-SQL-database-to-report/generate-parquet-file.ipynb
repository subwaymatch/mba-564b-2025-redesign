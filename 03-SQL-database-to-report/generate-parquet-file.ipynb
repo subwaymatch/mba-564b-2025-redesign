{
 "cells": [
  {
   "cell_type": "markdown",
   "id": "649d91b6",
   "metadata": {},
   "source": [
    "# Convert the CSV file to parquet format\n",
    "\n",
    "Parquet is a columnar storage file format designed for efficient data storage and retrieval, especially for analytics workloads. It is widely used in modern data engineering pipelines and supported by tools like DuckDB, Spark, BigQuery, AWS Athena, and Snowflake.\n",
    "\n",
    "## 📦 What is Parquet?\n",
    "\n",
    "- **Columnar**: Stores data by column, not by row\n",
    "- **Binary format**: Efficient and compact\n",
    "- **Self-describing**: Stores schema and metadata with the data\n",
    "- **Supports compression**: e.g., Snappy, Gzip\n",
    "- **Splittable**: Great for parallel processing\n",
    "\n",
    "This notebook converts a CSV file to parquet using Pandas and PyArrow.\n"
   ]
  },
  {
   "cell_type": "code",
   "execution_count": 1,
   "id": "1c94b6d0",
   "metadata": {},
   "outputs": [],
   "source": [
    "import pandas as pd"
   ]
  },
  {
   "cell_type": "code",
   "execution_count": 2,
   "id": "39010862",
   "metadata": {},
   "outputs": [
    {
     "data": {
      "text/html": [
       "<div>\n",
       "<style scoped>\n",
       "    .dataframe tbody tr th:only-of-type {\n",
       "        vertical-align: middle;\n",
       "    }\n",
       "\n",
       "    .dataframe tbody tr th {\n",
       "        vertical-align: top;\n",
       "    }\n",
       "\n",
       "    .dataframe thead th {\n",
       "        text-align: right;\n",
       "    }\n",
       "</style>\n",
       "<table border=\"1\" class=\"dataframe\">\n",
       "  <thead>\n",
       "    <tr style=\"text-align: right;\">\n",
       "      <th></th>\n",
       "      <th>fiscal_year</th>\n",
       "      <th>fiscal_period</th>\n",
       "      <th>department</th>\n",
       "      <th>division</th>\n",
       "      <th>merchant</th>\n",
       "      <th>category_description</th>\n",
       "      <th>transaction_date</th>\n",
       "      <th>amount</th>\n",
       "    </tr>\n",
       "  </thead>\n",
       "  <tbody>\n",
       "    <tr>\n",
       "      <th>1225525</th>\n",
       "      <td>2024</td>\n",
       "      <td>4</td>\n",
       "      <td>LEGAL</td>\n",
       "      <td>PUBLIC DEFENDER</td>\n",
       "      <td>UBER TRIP</td>\n",
       "      <td>Travel</td>\n",
       "      <td>2023-10-15</td>\n",
       "      <td>44.34</td>\n",
       "    </tr>\n",
       "    <tr>\n",
       "      <th>1241326</th>\n",
       "      <td>2024</td>\n",
       "      <td>1</td>\n",
       "      <td>JUDICIAL</td>\n",
       "      <td>Superior Court</td>\n",
       "      <td>KALAHARI RESORT - PA</td>\n",
       "      <td>Lodging</td>\n",
       "      <td>2023-07-07</td>\n",
       "      <td>129.00</td>\n",
       "    </tr>\n",
       "  </tbody>\n",
       "</table>\n",
       "</div>"
      ],
      "text/plain": [
       "         fiscal_year  fiscal_period department         division  \\\n",
       "1225525         2024              4      LEGAL  PUBLIC DEFENDER   \n",
       "1241326         2024              1   JUDICIAL   Superior Court   \n",
       "\n",
       "                     merchant category_description transaction_date  amount  \n",
       "1225525             UBER TRIP               Travel       2023-10-15   44.34  \n",
       "1241326  KALAHARI RESORT - PA              Lodging       2023-07-07  129.00  "
      ]
     },
     "execution_count": 2,
     "metadata": {},
     "output_type": "execute_result"
    }
   ],
   "source": [
    "df = pd.read_csv(\n",
    "    \"data/state-of-delaware-pcard-transactions.csv.gz\",\n",
    "    compression=\"gzip\",\n",
    "    parse_dates=[\"TRANS_DT\"],\n",
    ")\n",
    "df.rename(\n",
    "    columns={\n",
    "        \"FISCAL_YEAR\": \"fiscal_year\",\n",
    "        \"FISCAL_PERIOD\": \"fiscal_period\",\n",
    "        \"DEPT_NAME\": \"department\",\n",
    "        \"DIV_NAME\": \"division\",\n",
    "        \"MERCHANT\": \"merchant\",\n",
    "        \"CAT_DESCR\": \"category_description\",\n",
    "        \"TRANS_DT\": \"transaction_date\",\n",
    "        \"MERCHANDISE_AMT\": \"amount\",\n",
    "    },\n",
    "    inplace=True,\n",
    ")\n",
    "df = df[df['fiscal_year'] == 2024] # Only use FY 2024\n",
    "df.head(2)"
   ]
  },
  {
   "cell_type": "code",
   "execution_count": 3,
   "id": "5373b9bf",
   "metadata": {},
   "outputs": [],
   "source": [
    "df.to_parquet(\"data/state-of-delaware-pcard-transactions.parquet\", index=False)"
   ]
  }
 ],
 "metadata": {
  "kernelspec": {
   "display_name": "Python 3 (ipykernel)",
   "language": "python",
   "name": "python3"
  },
  "language_info": {
   "codemirror_mode": {
    "name": "ipython",
    "version": 3
   },
   "file_extension": ".py",
   "mimetype": "text/x-python",
   "name": "python",
   "nbconvert_exporter": "python",
   "pygments_lexer": "ipython3",
   "version": "3.10.10"
  }
 },
 "nbformat": 4,
 "nbformat_minor": 5
}
