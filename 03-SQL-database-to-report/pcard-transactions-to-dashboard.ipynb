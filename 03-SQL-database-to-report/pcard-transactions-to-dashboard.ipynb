{
 "cells": [
  {
   "cell_type": "code",
   "execution_count": 18,
   "id": "9a95d3ca",
   "metadata": {},
   "outputs": [
    {
     "name": "stdout",
     "output_type": "stream",
     "text": [
      "Requirement already satisfied: duckdb==1.2.2 in c:\\users\\ypark32\\appdata\\local\\miniforge3\\envs\\gies\\lib\\site-packages (1.2.2)Note: you may need to restart the kernel to use updated packages.\n",
      "\n",
      "Requirement already satisfied: fpdf2==2.8.3 in c:\\users\\ypark32\\appdata\\local\\miniforge3\\envs\\gies\\lib\\site-packages (2.8.3)\n",
      "Requirement already satisfied: defusedxml in c:\\users\\ypark32\\appdata\\local\\miniforge3\\envs\\gies\\lib\\site-packages (from fpdf2==2.8.3) (0.7.1)\n",
      "Requirement already satisfied: Pillow!=9.2.*,>=6.2.2 in c:\\users\\ypark32\\appdata\\local\\miniforge3\\envs\\gies\\lib\\site-packages (from fpdf2==2.8.3) (10.4.0)\n",
      "Requirement already satisfied: fonttools>=4.34.0 in c:\\users\\ypark32\\appdata\\local\\miniforge3\\envs\\gies\\lib\\site-packages (from fpdf2==2.8.3) (4.54.1)\n",
      "Note: you may need to restart the kernel to use updated packages.\n",
      "Requirement already satisfied: plotly<7,>=6 in c:\\users\\ypark32\\appdata\\local\\miniforge3\\envs\\gies\\lib\\site-packages (6.0.1)\n",
      "Requirement already satisfied: narwhals>=1.15.1 in c:\\users\\ypark32\\appdata\\local\\miniforge3\\envs\\gies\\lib\\site-packages (from plotly<7,>=6) (1.38.0)\n",
      "Requirement already satisfied: packaging in c:\\users\\ypark32\\appdata\\local\\miniforge3\\envs\\gies\\lib\\site-packages (from plotly<7,>=6) (24.1)\n",
      "Note: you may need to restart the kernel to use updated packages.\n",
      "Collecting kaleido==0.2.1\n",
      "  Using cached kaleido-0.2.1-py2.py3-none-win_amd64.whl.metadata (15 kB)\n",
      "Using cached kaleido-0.2.1-py2.py3-none-win_amd64.whl (65.9 MB)\n",
      "Installing collected packages: kaleido\n",
      "Successfully installed kaleido-0.2.1\n",
      "Note: you may need to restart the kernel to use updated packages.\n"
     ]
    }
   ],
   "source": [
    "%pip install \"duckdb==1.2.2\"\n",
    "%pip install \"fpdf2==2.8.3\"\n",
    "%pip install \"plotly>=6,<7\"\n",
    "%pip install -U \"kaleido==0.2.1\""
   ]
  },
  {
   "cell_type": "code",
   "execution_count": 4,
   "id": "510159f8",
   "metadata": {},
   "outputs": [],
   "source": [
    "import pandas as pd\n",
    "import duckdb\n",
    "import plotly.express as px\n",
    "from fpdf import FPDF"
   ]
  },
  {
   "cell_type": "code",
   "execution_count": 17,
   "id": "b5084d49",
   "metadata": {},
   "outputs": [
    {
     "data": {
      "text/plain": [
       "'2.8.3'"
      ]
     },
     "execution_count": 17,
     "metadata": {},
     "output_type": "execute_result"
    }
   ],
   "source": [
    "import fpdf\n",
    "\n",
    "fpdf.__version__"
   ]
  },
  {
   "cell_type": "code",
   "execution_count": null,
   "id": "06f531ad",
   "metadata": {},
   "outputs": [],
   "source": []
  },
  {
   "cell_type": "code",
   "execution_count": 5,
   "id": "f9d19de4",
   "metadata": {},
   "outputs": [
    {
     "data": {
      "text/plain": [
       "<duckdb.duckdb.DuckDBPyConnection at 0x1d8c205dfb0>"
      ]
     },
     "execution_count": 5,
     "metadata": {},
     "output_type": "execute_result"
    }
   ],
   "source": [
    "# Create a DuckDB connection and read a CSV file into a DuckDB table\n",
    "db = duckdb.connect()\n",
    "db.execute(\n",
    "    \"\"\"\n",
    "    CREATE TABLE transactions AS\n",
    "    SELECT * FROM read_parquet('https://raw.githubusercontent.com/subwaymatch/mba564b-2025-redesign/main/03-SQL-database-to-report/data/state-of-delaware-pcard-transactions.parquet');\n",
    "\"\"\"\n",
    ")"
   ]
  },
  {
   "cell_type": "code",
   "execution_count": 6,
   "id": "4d78ccda",
   "metadata": {},
   "outputs": [
    {
     "data": {
      "text/plain": [
       "┌─────────────┬───────────────┬────────────────────┬────────────────────────┬───────────────────────┬────────────────────────────────────────────────────┬─────────────────────┬────────┐\n",
       "│ fiscal_year │ fiscal_period │     department     │        division        │       merchant        │                category_description                │  transaction_date   │ amount │\n",
       "│    int64    │     int64     │      varchar       │        varchar         │        varchar        │                      varchar                       │    timestamp_ns     │ double │\n",
       "├─────────────┼───────────────┼────────────────────┼────────────────────────┼───────────────────────┼────────────────────────────────────────────────────┼─────────────────────┼────────┤\n",
       "│        2017 │             1 │ LEGISLATIVE BRANCH │ General Assembly House │ VZWRLSS*APOCC VISB    │ Telecom Incl Prepaid-Recurring Phone Svcs          │ 2016-07-14 00:00:00 │  11.65 │\n",
       "│        2017 │             1 │ LEGISLATIVE BRANCH │ General Assembly House │ GAN*NEWSPAPER SUB1052 │ Direct Marketing-Continuity-Subscription Merchants │ 2016-07-05 00:00:00 │   15.0 │\n",
       "└─────────────┴───────────────┴────────────────────┴────────────────────────┴───────────────────────┴────────────────────────────────────────────────────┴─────────────────────┴────────┘"
      ]
     },
     "execution_count": 6,
     "metadata": {},
     "output_type": "execute_result"
    }
   ],
   "source": [
    "db.sql(\"SELECT * FROM transactions LIMIT 2;\")"
   ]
  },
  {
   "cell_type": "code",
   "execution_count": 7,
   "id": "7d107831",
   "metadata": {},
   "outputs": [
    {
     "data": {
      "text/plain": [
       "┌──────────┐\n",
       "│ num_rows │\n",
       "│  int64   │\n",
       "├──────────┤\n",
       "│  1585108 │\n",
       "└──────────┘"
      ]
     },
     "execution_count": 7,
     "metadata": {},
     "output_type": "execute_result"
    }
   ],
   "source": [
    "query_num_rows = db.sql(\"SELECT COUNT(*) AS num_rows FROM transactions;\")\n",
    "query_num_rows"
   ]
  },
  {
   "cell_type": "code",
   "execution_count": 8,
   "id": "fc76c4fd",
   "metadata": {},
   "outputs": [
    {
     "data": {
      "text/plain": [
       "┌────────────────────────────────┬─────────────┐\n",
       "│           department           │ total_spent │\n",
       "│            varchar             │    int32    │\n",
       "├────────────────────────────────┼─────────────┤\n",
       "│ DEPT OF CORRECTIONS            │   213372349 │\n",
       "│ DEPT OF TRANSPORTATION         │   105867361 │\n",
       "│ DEPT OF NATRL RES AND ENV CONT │    40121063 │\n",
       "│ DEL TECH AND COMM COLLEGE      │    38555315 │\n",
       "│ EXECUTIVE                      │    28860860 │\n",
       "│ DEPT OF TECHNOLOGY AND INFOR   │    27838468 │\n",
       "│ DEPT OF SAFETY AND HOMELAND    │    22436893 │\n",
       "│ DEPT OF HEALTH AND SOCIAL SV   │    22131629 │\n",
       "│ DEPT OF STATE                  │    17263785 │\n",
       "│ APPOQUINIMINK SCHOOL DISTRICT  │    14194091 │\n",
       "├────────────────────────────────┴─────────────┤\n",
       "│ 10 rows                            2 columns │\n",
       "└──────────────────────────────────────────────┘"
      ]
     },
     "execution_count": 8,
     "metadata": {},
     "output_type": "execute_result"
    }
   ],
   "source": [
    "query_top_10_departments = db.sql(\n",
    "    \"\"\"\n",
    "    SELECT \n",
    "    department, \n",
    "    SUM(amount)::INT AS total_spent\n",
    "        FROM transactions\n",
    "        GROUP BY department\n",
    "        ORDER BY total_spent DESC\n",
    "        LIMIT 10;\n",
    "\"\"\"\n",
    ")\n",
    "\n",
    "query_top_10_departments"
   ]
  },
  {
   "cell_type": "code",
   "execution_count": 9,
   "id": "d7e60611",
   "metadata": {},
   "outputs": [],
   "source": [
    "pdf = FPDF()\n",
    "pdf.add_page()\n",
    "pdf.set_font(\"Helvetica\", size=14, style=\"B\")\n",
    "pdf.cell(text=\"Top 10 Departments by Spending\")\n",
    "\n",
    "pdf.set_font(\"Helvetica\", size=10)\n",
    "pdf.ln(10)\n",
    "\n",
    "with pdf.table(text_align=(\"LEFT\", \"RIGHT\")) as table:\n",
    "    header_row = table.row()\n",
    "    header_row.cell(\"Department\", border=\"TOP\")\n",
    "    header_row.cell(\"Total Spent\", border=\"TOP\")\n",
    "\n",
    "    for data_row in query_top_10_departments.fetchall():\n",
    "        new_row = table.row()\n",
    "\n",
    "        new_row.cell(data_row[0], border=\"TOP\")\n",
    "        new_row.cell(f\"${data_row[1]:,}\", border=\"TOP\")\n",
    "\n",
    "pdf.output(\"report.pdf\")"
   ]
  },
  {
   "cell_type": "code",
   "execution_count": null,
   "id": "00652112",
   "metadata": {},
   "outputs": [
    {
     "data": {
      "text/plain": [
       "┌────────────────────────┬────────────┬───────────────────┬──────────────┐\n",
       "│       department       │ year_month │ transaction_count │ total_amount │\n",
       "│        varchar         │  varchar   │       int64       │    int64     │\n",
       "├────────────────────────┼────────────┼───────────────────┼──────────────┤\n",
       "│ DEPT OF CORRECTIONS    │ 2016-06    │               278 │       151435 │\n",
       "│ DEPT OF CORRECTIONS    │ 2016-07    │              1297 │      2077463 │\n",
       "│ DEPT OF CORRECTIONS    │ 2016-08    │              1685 │      1369367 │\n",
       "│ DEPT OF CORRECTIONS    │ 2016-09    │              1602 │      1893165 │\n",
       "│ DEPT OF CORRECTIONS    │ 2016-10    │              1736 │      1439538 │\n",
       "│ DEPT OF CORRECTIONS    │ 2016-11    │              1268 │      1811507 │\n",
       "│ DEPT OF CORRECTIONS    │ 2016-12    │              1496 │      1848660 │\n",
       "│ DEPT OF CORRECTIONS    │ 2017-01    │              1470 │      1891260 │\n",
       "│ DEPT OF CORRECTIONS    │ 2017-02    │              1258 │      1182009 │\n",
       "│ DEPT OF CORRECTIONS    │ 2017-03    │              1597 │      2040593 │\n",
       "│          ·             │    ·       │                ·  │          ·   │\n",
       "│          ·             │    ·       │                ·  │          ·   │\n",
       "│          ·             │    ·       │                ·  │          ·   │\n",
       "│ DEPT OF TRANSPORTATION │ 2024-06    │              1002 │       725344 │\n",
       "│ DEPT OF TRANSPORTATION │ 2024-07    │              1371 │       985603 │\n",
       "│ DEPT OF TRANSPORTATION │ 2024-08    │              1547 │      1145699 │\n",
       "│ DEPT OF TRANSPORTATION │ 2024-09    │              1425 │      1033078 │\n",
       "│ DEPT OF TRANSPORTATION │ 2024-10    │              1641 │      1120678 │\n",
       "│ DEPT OF TRANSPORTATION │ 2024-11    │              1067 │       700195 │\n",
       "│ DEPT OF TRANSPORTATION │ 2024-12    │              1125 │       991898 │\n",
       "│ DEPT OF TRANSPORTATION │ 2025-01    │              1457 │      1131349 │\n",
       "│ DEPT OF TRANSPORTATION │ 2025-02    │              1320 │       995017 │\n",
       "│ DEPT OF TRANSPORTATION │ 2025-03    │              1218 │       862902 │\n",
       "├────────────────────────┴────────────┴───────────────────┴──────────────┤\n",
       "│ 212 rows (20 shown)                                          4 columns │\n",
       "└────────────────────────────────────────────────────────────────────────┘"
      ]
     },
     "execution_count": 10,
     "metadata": {},
     "output_type": "execute_result"
    }
   ],
   "source": [
    "query_department_monthly_spending = db.sql(\n",
    "    \"\"\"\n",
    "    SELECT \n",
    "        department,\n",
    "        strftime(transaction_date, '%Y-%m') AS year_month,\n",
    "        COUNT(*) AS transaction_count,\n",
    "        SUM(amount)::INT64 AS total_amount\n",
    "    FROM transactions\n",
    "    WHERE department = 'DEPT OF TRANSPORTATION' OR department = 'DEPT OF CORRECTIONS'\n",
    "    GROUP BY department, year_month\n",
    "    ORDER BY department, year_month;\n",
    "\"\"\"\n",
    ")\n",
    "\n",
    "\n",
    "query_department_monthly_spending"
   ]
  },
  {
   "cell_type": "code",
   "execution_count": 11,
   "id": "cff0e9c1",
   "metadata": {},
   "outputs": [
    {
     "data": {
      "text/html": [
       "<div>\n",
       "<style scoped>\n",
       "    .dataframe tbody tr th:only-of-type {\n",
       "        vertical-align: middle;\n",
       "    }\n",
       "\n",
       "    .dataframe tbody tr th {\n",
       "        vertical-align: top;\n",
       "    }\n",
       "\n",
       "    .dataframe thead th {\n",
       "        text-align: right;\n",
       "    }\n",
       "</style>\n",
       "<table border=\"1\" class=\"dataframe\">\n",
       "  <thead>\n",
       "    <tr style=\"text-align: right;\">\n",
       "      <th></th>\n",
       "      <th>department</th>\n",
       "      <th>year_month</th>\n",
       "      <th>transaction_count</th>\n",
       "      <th>total_amount</th>\n",
       "    </tr>\n",
       "  </thead>\n",
       "  <tbody>\n",
       "    <tr>\n",
       "      <th>0</th>\n",
       "      <td>DEPT OF CORRECTIONS</td>\n",
       "      <td>2016-06</td>\n",
       "      <td>278</td>\n",
       "      <td>151435</td>\n",
       "    </tr>\n",
       "    <tr>\n",
       "      <th>1</th>\n",
       "      <td>DEPT OF CORRECTIONS</td>\n",
       "      <td>2016-07</td>\n",
       "      <td>1297</td>\n",
       "      <td>2077463</td>\n",
       "    </tr>\n",
       "    <tr>\n",
       "      <th>2</th>\n",
       "      <td>DEPT OF CORRECTIONS</td>\n",
       "      <td>2016-08</td>\n",
       "      <td>1685</td>\n",
       "      <td>1369367</td>\n",
       "    </tr>\n",
       "    <tr>\n",
       "      <th>3</th>\n",
       "      <td>DEPT OF CORRECTIONS</td>\n",
       "      <td>2016-09</td>\n",
       "      <td>1602</td>\n",
       "      <td>1893165</td>\n",
       "    </tr>\n",
       "    <tr>\n",
       "      <th>4</th>\n",
       "      <td>DEPT OF CORRECTIONS</td>\n",
       "      <td>2016-10</td>\n",
       "      <td>1736</td>\n",
       "      <td>1439538</td>\n",
       "    </tr>\n",
       "    <tr>\n",
       "      <th>...</th>\n",
       "      <td>...</td>\n",
       "      <td>...</td>\n",
       "      <td>...</td>\n",
       "      <td>...</td>\n",
       "    </tr>\n",
       "    <tr>\n",
       "      <th>207</th>\n",
       "      <td>DEPT OF TRANSPORTATION</td>\n",
       "      <td>2024-11</td>\n",
       "      <td>1067</td>\n",
       "      <td>700195</td>\n",
       "    </tr>\n",
       "    <tr>\n",
       "      <th>208</th>\n",
       "      <td>DEPT OF TRANSPORTATION</td>\n",
       "      <td>2024-12</td>\n",
       "      <td>1125</td>\n",
       "      <td>991898</td>\n",
       "    </tr>\n",
       "    <tr>\n",
       "      <th>209</th>\n",
       "      <td>DEPT OF TRANSPORTATION</td>\n",
       "      <td>2025-01</td>\n",
       "      <td>1457</td>\n",
       "      <td>1131349</td>\n",
       "    </tr>\n",
       "    <tr>\n",
       "      <th>210</th>\n",
       "      <td>DEPT OF TRANSPORTATION</td>\n",
       "      <td>2025-02</td>\n",
       "      <td>1320</td>\n",
       "      <td>995017</td>\n",
       "    </tr>\n",
       "    <tr>\n",
       "      <th>211</th>\n",
       "      <td>DEPT OF TRANSPORTATION</td>\n",
       "      <td>2025-03</td>\n",
       "      <td>1218</td>\n",
       "      <td>862902</td>\n",
       "    </tr>\n",
       "  </tbody>\n",
       "</table>\n",
       "<p>212 rows × 4 columns</p>\n",
       "</div>"
      ],
      "text/plain": [
       "                 department year_month  transaction_count  total_amount\n",
       "0       DEPT OF CORRECTIONS    2016-06                278        151435\n",
       "1       DEPT OF CORRECTIONS    2016-07               1297       2077463\n",
       "2       DEPT OF CORRECTIONS    2016-08               1685       1369367\n",
       "3       DEPT OF CORRECTIONS    2016-09               1602       1893165\n",
       "4       DEPT OF CORRECTIONS    2016-10               1736       1439538\n",
       "..                      ...        ...                ...           ...\n",
       "207  DEPT OF TRANSPORTATION    2024-11               1067        700195\n",
       "208  DEPT OF TRANSPORTATION    2024-12               1125        991898\n",
       "209  DEPT OF TRANSPORTATION    2025-01               1457       1131349\n",
       "210  DEPT OF TRANSPORTATION    2025-02               1320        995017\n",
       "211  DEPT OF TRANSPORTATION    2025-03               1218        862902\n",
       "\n",
       "[212 rows x 4 columns]"
      ]
     },
     "execution_count": 11,
     "metadata": {},
     "output_type": "execute_result"
    }
   ],
   "source": [
    "query_department_monthly_spending.df()"
   ]
  },
  {
   "cell_type": "code",
   "execution_count": null,
   "id": "10c1b885",
   "metadata": {},
   "outputs": [
    {
     "data": {
      "application/vnd.plotly.v1+json": {
       "config": {
        "plotlyServerURL": "https://plot.ly"
       },
       "data": [
        {
         "hovertemplate": "department=DEPT OF CORRECTIONS<br>year_month=%{x}<br>total_amount=%{y}<extra></extra>",
         "legendgroup": "DEPT OF CORRECTIONS",
         "line": {
          "color": "#1F77B4",
          "dash": "solid"
         },
         "marker": {
          "symbol": "circle"
         },
         "mode": "lines",
         "name": "DEPT OF CORRECTIONS",
         "orientation": "v",
         "showlegend": true,
         "type": "scatter",
         "x": [
          "2016-06",
          "2016-07",
          "2016-08",
          "2016-09",
          "2016-10",
          "2016-11",
          "2016-12",
          "2017-01",
          "2017-02",
          "2017-03",
          "2017-04",
          "2017-05",
          "2017-06",
          "2017-07",
          "2017-08",
          "2017-09",
          "2017-10",
          "2017-11",
          "2017-12",
          "2018-01",
          "2018-02",
          "2018-03",
          "2018-04",
          "2018-05",
          "2018-06",
          "2018-07",
          "2018-08",
          "2018-09",
          "2018-10",
          "2018-11",
          "2018-12",
          "2019-01",
          "2019-02",
          "2019-03",
          "2019-04",
          "2019-05",
          "2019-06",
          "2019-07",
          "2019-08",
          "2019-09",
          "2019-10",
          "2019-11",
          "2019-12",
          "2020-01",
          "2020-02",
          "2020-03",
          "2020-04",
          "2020-05",
          "2020-06",
          "2020-07",
          "2020-08",
          "2020-09",
          "2020-10",
          "2020-11",
          "2020-12",
          "2021-01",
          "2021-02",
          "2021-03",
          "2021-04",
          "2021-05",
          "2021-06",
          "2021-07",
          "2021-08",
          "2021-09",
          "2021-10",
          "2021-11",
          "2021-12",
          "2022-01",
          "2022-02",
          "2022-03",
          "2022-04",
          "2022-05",
          "2022-06",
          "2022-07",
          "2022-08",
          "2022-09",
          "2022-10",
          "2022-11",
          "2022-12",
          "2023-01",
          "2023-02",
          "2023-03",
          "2023-04",
          "2023-05",
          "2023-06",
          "2023-07",
          "2023-08",
          "2023-09",
          "2023-10",
          "2023-11",
          "2023-12",
          "2024-01",
          "2024-02",
          "2024-03",
          "2024-04",
          "2024-05",
          "2024-06",
          "2024-07",
          "2024-08",
          "2024-09",
          "2024-10",
          "2024-11",
          "2024-12",
          "2025-01",
          "2025-02",
          "2025-03"
         ],
         "xaxis": "x",
         "y": [
          151435,
          2077463,
          1369367,
          1893165,
          1439538,
          1811507,
          1848660,
          1891260,
          1182009,
          2040593,
          1224030,
          1814880,
          1875338,
          1428210,
          2237581,
          1298735,
          1682575,
          2190286,
          1948290,
          2004218,
          1655946,
          1987474,
          1907630,
          2158328,
          2028215,
          1841778,
          2429941,
          1781728,
          2106937,
          1842064,
          1921184,
          2229611,
          1483664,
          1935969,
          1899756,
          1875047,
          1630426,
          1714427,
          2179384,
          1429202,
          1949800,
          1942344,
          1996932,
          2944176,
          1102947,
          2193503,
          1843103,
          1570631,
          2027891,
          2069378,
          1841706,
          2008240,
          2228601,
          1730829,
          2192497,
          2006975,
          1812642,
          2723786,
          1932510,
          2310736,
          2573696,
          1805675,
          2224710,
          2083040,
          1736864,
          1837429,
          1901331,
          2445351,
          1950717,
          3033014,
          2415196,
          2104125,
          2356969,
          1935371,
          1480057,
          2707043,
          2661935,
          2119349,
          2136856,
          3330118,
          1661969,
          3252726,
          1687485,
          2453390,
          2241921,
          1492805,
          1878673,
          1958221,
          2056102,
          1862930,
          1856362,
          2305861,
          1795816,
          1823625,
          2069272,
          3065438,
          2071438,
          2486911,
          2665507,
          2147331,
          2873899,
          1914260,
          2552211,
          2596710,
          1882081,
          2003483
         ],
         "yaxis": "y"
        },
        {
         "hovertemplate": "department=DEPT OF TRANSPORTATION<br>year_month=%{x}<br>total_amount=%{y}<extra></extra>",
         "legendgroup": "DEPT OF TRANSPORTATION",
         "line": {
          "color": "#FF7F0E",
          "dash": "solid"
         },
         "marker": {
          "symbol": "circle"
         },
         "mode": "lines",
         "name": "DEPT OF TRANSPORTATION",
         "orientation": "v",
         "showlegend": true,
         "type": "scatter",
         "x": [
          "2016-06",
          "2016-07",
          "2016-08",
          "2016-09",
          "2016-10",
          "2016-11",
          "2016-12",
          "2017-01",
          "2017-02",
          "2017-03",
          "2017-04",
          "2017-05",
          "2017-06",
          "2017-07",
          "2017-08",
          "2017-09",
          "2017-10",
          "2017-11",
          "2017-12",
          "2018-01",
          "2018-02",
          "2018-03",
          "2018-04",
          "2018-05",
          "2018-06",
          "2018-07",
          "2018-08",
          "2018-09",
          "2018-10",
          "2018-11",
          "2018-12",
          "2019-01",
          "2019-02",
          "2019-03",
          "2019-04",
          "2019-05",
          "2019-06",
          "2019-07",
          "2019-08",
          "2019-09",
          "2019-10",
          "2019-11",
          "2019-12",
          "2020-01",
          "2020-02",
          "2020-03",
          "2020-04",
          "2020-05",
          "2020-06",
          "2020-07",
          "2020-08",
          "2020-09",
          "2020-10",
          "2020-11",
          "2020-12",
          "2021-01",
          "2021-02",
          "2021-03",
          "2021-04",
          "2021-05",
          "2021-06",
          "2021-07",
          "2021-08",
          "2021-09",
          "2021-10",
          "2021-11",
          "2021-12",
          "2022-01",
          "2022-02",
          "2022-03",
          "2022-04",
          "2022-05",
          "2022-06",
          "2022-07",
          "2022-08",
          "2022-09",
          "2022-10",
          "2022-11",
          "2022-12",
          "2023-01",
          "2023-02",
          "2023-03",
          "2023-04",
          "2023-05",
          "2023-06",
          "2023-07",
          "2023-08",
          "2023-09",
          "2023-10",
          "2023-11",
          "2023-12",
          "2024-01",
          "2024-02",
          "2024-03",
          "2024-04",
          "2024-05",
          "2024-06",
          "2024-07",
          "2024-08",
          "2024-09",
          "2024-10",
          "2024-11",
          "2024-12",
          "2025-01",
          "2025-02",
          "2025-03"
         ],
         "xaxis": "x",
         "y": [
          156290,
          635775,
          888498,
          1044641,
          1131978,
          926853,
          1102433,
          1029618,
          887465,
          1076009,
          888646,
          1205685,
          927746,
          731973,
          1035395,
          1316364,
          945810,
          1197829,
          793833,
          1407239,
          1063915,
          1178963,
          860212,
          1080364,
          1054876,
          907861,
          1043029,
          1071132,
          1207829,
          1008577,
          886457,
          993040,
          1064004,
          1004523,
          1116133,
          1206910,
          809065,
          764621,
          957288,
          1079610,
          1282038,
          943369,
          1012246,
          1097118,
          980846,
          1094564,
          943579,
          775367,
          880968,
          922066,
          965871,
          812607,
          836155,
          625056,
          706460,
          1237425,
          865850,
          1061207,
          881388,
          937000,
          884579,
          910471,
          855206,
          1040726,
          831881,
          1012487,
          846724,
          1045819,
          1031729,
          1183959,
          922912,
          993339,
          871513,
          840095,
          1307239,
          989300,
          1009307,
          813329,
          1156147,
          1132876,
          896945,
          1209919,
          1110797,
          1099845,
          880599,
          951253,
          1302458,
          1491405,
          1269940,
          1019384,
          494374,
          1341054,
          1331177,
          1284242,
          1092740,
          1170151,
          725344,
          985603,
          1145699,
          1033078,
          1120678,
          700195,
          991898,
          1131349,
          995017,
          862902
         ],
         "yaxis": "y"
        }
       ],
       "layout": {
        "legend": {
         "title": {
          "text": "department"
         },
         "tracegroupgap": 0
        },
        "showlegend": false,
        "template": {
         "data": {
          "bar": [
           {
            "error_x": {
             "color": "rgb(36,36,36)"
            },
            "error_y": {
             "color": "rgb(36,36,36)"
            },
            "marker": {
             "line": {
              "color": "white",
              "width": 0.5
             },
             "pattern": {
              "fillmode": "overlay",
              "size": 10,
              "solidity": 0.2
             }
            },
            "type": "bar"
           }
          ],
          "barpolar": [
           {
            "marker": {
             "line": {
              "color": "white",
              "width": 0.5
             },
             "pattern": {
              "fillmode": "overlay",
              "size": 10,
              "solidity": 0.2
             }
            },
            "type": "barpolar"
           }
          ],
          "carpet": [
           {
            "aaxis": {
             "endlinecolor": "rgb(36,36,36)",
             "gridcolor": "white",
             "linecolor": "white",
             "minorgridcolor": "white",
             "startlinecolor": "rgb(36,36,36)"
            },
            "baxis": {
             "endlinecolor": "rgb(36,36,36)",
             "gridcolor": "white",
             "linecolor": "white",
             "minorgridcolor": "white",
             "startlinecolor": "rgb(36,36,36)"
            },
            "type": "carpet"
           }
          ],
          "choropleth": [
           {
            "colorbar": {
             "outlinewidth": 1,
             "tickcolor": "rgb(36,36,36)",
             "ticks": "outside"
            },
            "type": "choropleth"
           }
          ],
          "contour": [
           {
            "colorbar": {
             "outlinewidth": 1,
             "tickcolor": "rgb(36,36,36)",
             "ticks": "outside"
            },
            "colorscale": [
             [
              0,
              "#440154"
             ],
             [
              0.1111111111111111,
              "#482878"
             ],
             [
              0.2222222222222222,
              "#3e4989"
             ],
             [
              0.3333333333333333,
              "#31688e"
             ],
             [
              0.4444444444444444,
              "#26828e"
             ],
             [
              0.5555555555555556,
              "#1f9e89"
             ],
             [
              0.6666666666666666,
              "#35b779"
             ],
             [
              0.7777777777777778,
              "#6ece58"
             ],
             [
              0.8888888888888888,
              "#b5de2b"
             ],
             [
              1,
              "#fde725"
             ]
            ],
            "type": "contour"
           }
          ],
          "contourcarpet": [
           {
            "colorbar": {
             "outlinewidth": 1,
             "tickcolor": "rgb(36,36,36)",
             "ticks": "outside"
            },
            "type": "contourcarpet"
           }
          ],
          "heatmap": [
           {
            "colorbar": {
             "outlinewidth": 1,
             "tickcolor": "rgb(36,36,36)",
             "ticks": "outside"
            },
            "colorscale": [
             [
              0,
              "#440154"
             ],
             [
              0.1111111111111111,
              "#482878"
             ],
             [
              0.2222222222222222,
              "#3e4989"
             ],
             [
              0.3333333333333333,
              "#31688e"
             ],
             [
              0.4444444444444444,
              "#26828e"
             ],
             [
              0.5555555555555556,
              "#1f9e89"
             ],
             [
              0.6666666666666666,
              "#35b779"
             ],
             [
              0.7777777777777778,
              "#6ece58"
             ],
             [
              0.8888888888888888,
              "#b5de2b"
             ],
             [
              1,
              "#fde725"
             ]
            ],
            "type": "heatmap"
           }
          ],
          "heatmapgl": [
           {
            "colorbar": {
             "outlinewidth": 1,
             "tickcolor": "rgb(36,36,36)",
             "ticks": "outside"
            },
            "colorscale": [
             [
              0,
              "#440154"
             ],
             [
              0.1111111111111111,
              "#482878"
             ],
             [
              0.2222222222222222,
              "#3e4989"
             ],
             [
              0.3333333333333333,
              "#31688e"
             ],
             [
              0.4444444444444444,
              "#26828e"
             ],
             [
              0.5555555555555556,
              "#1f9e89"
             ],
             [
              0.6666666666666666,
              "#35b779"
             ],
             [
              0.7777777777777778,
              "#6ece58"
             ],
             [
              0.8888888888888888,
              "#b5de2b"
             ],
             [
              1,
              "#fde725"
             ]
            ],
            "type": "heatmapgl"
           }
          ],
          "histogram": [
           {
            "marker": {
             "line": {
              "color": "white",
              "width": 0.6
             }
            },
            "type": "histogram"
           }
          ],
          "histogram2d": [
           {
            "colorbar": {
             "outlinewidth": 1,
             "tickcolor": "rgb(36,36,36)",
             "ticks": "outside"
            },
            "colorscale": [
             [
              0,
              "#440154"
             ],
             [
              0.1111111111111111,
              "#482878"
             ],
             [
              0.2222222222222222,
              "#3e4989"
             ],
             [
              0.3333333333333333,
              "#31688e"
             ],
             [
              0.4444444444444444,
              "#26828e"
             ],
             [
              0.5555555555555556,
              "#1f9e89"
             ],
             [
              0.6666666666666666,
              "#35b779"
             ],
             [
              0.7777777777777778,
              "#6ece58"
             ],
             [
              0.8888888888888888,
              "#b5de2b"
             ],
             [
              1,
              "#fde725"
             ]
            ],
            "type": "histogram2d"
           }
          ],
          "histogram2dcontour": [
           {
            "colorbar": {
             "outlinewidth": 1,
             "tickcolor": "rgb(36,36,36)",
             "ticks": "outside"
            },
            "colorscale": [
             [
              0,
              "#440154"
             ],
             [
              0.1111111111111111,
              "#482878"
             ],
             [
              0.2222222222222222,
              "#3e4989"
             ],
             [
              0.3333333333333333,
              "#31688e"
             ],
             [
              0.4444444444444444,
              "#26828e"
             ],
             [
              0.5555555555555556,
              "#1f9e89"
             ],
             [
              0.6666666666666666,
              "#35b779"
             ],
             [
              0.7777777777777778,
              "#6ece58"
             ],
             [
              0.8888888888888888,
              "#b5de2b"
             ],
             [
              1,
              "#fde725"
             ]
            ],
            "type": "histogram2dcontour"
           }
          ],
          "mesh3d": [
           {
            "colorbar": {
             "outlinewidth": 1,
             "tickcolor": "rgb(36,36,36)",
             "ticks": "outside"
            },
            "type": "mesh3d"
           }
          ],
          "parcoords": [
           {
            "line": {
             "colorbar": {
              "outlinewidth": 1,
              "tickcolor": "rgb(36,36,36)",
              "ticks": "outside"
             }
            },
            "type": "parcoords"
           }
          ],
          "pie": [
           {
            "automargin": true,
            "type": "pie"
           }
          ],
          "scatter": [
           {
            "fillpattern": {
             "fillmode": "overlay",
             "size": 10,
             "solidity": 0.2
            },
            "type": "scatter"
           }
          ],
          "scatter3d": [
           {
            "line": {
             "colorbar": {
              "outlinewidth": 1,
              "tickcolor": "rgb(36,36,36)",
              "ticks": "outside"
             }
            },
            "marker": {
             "colorbar": {
              "outlinewidth": 1,
              "tickcolor": "rgb(36,36,36)",
              "ticks": "outside"
             }
            },
            "type": "scatter3d"
           }
          ],
          "scattercarpet": [
           {
            "marker": {
             "colorbar": {
              "outlinewidth": 1,
              "tickcolor": "rgb(36,36,36)",
              "ticks": "outside"
             }
            },
            "type": "scattercarpet"
           }
          ],
          "scattergeo": [
           {
            "marker": {
             "colorbar": {
              "outlinewidth": 1,
              "tickcolor": "rgb(36,36,36)",
              "ticks": "outside"
             }
            },
            "type": "scattergeo"
           }
          ],
          "scattergl": [
           {
            "marker": {
             "colorbar": {
              "outlinewidth": 1,
              "tickcolor": "rgb(36,36,36)",
              "ticks": "outside"
             }
            },
            "type": "scattergl"
           }
          ],
          "scattermapbox": [
           {
            "marker": {
             "colorbar": {
              "outlinewidth": 1,
              "tickcolor": "rgb(36,36,36)",
              "ticks": "outside"
             }
            },
            "type": "scattermapbox"
           }
          ],
          "scatterpolar": [
           {
            "marker": {
             "colorbar": {
              "outlinewidth": 1,
              "tickcolor": "rgb(36,36,36)",
              "ticks": "outside"
             }
            },
            "type": "scatterpolar"
           }
          ],
          "scatterpolargl": [
           {
            "marker": {
             "colorbar": {
              "outlinewidth": 1,
              "tickcolor": "rgb(36,36,36)",
              "ticks": "outside"
             }
            },
            "type": "scatterpolargl"
           }
          ],
          "scatterternary": [
           {
            "marker": {
             "colorbar": {
              "outlinewidth": 1,
              "tickcolor": "rgb(36,36,36)",
              "ticks": "outside"
             }
            },
            "type": "scatterternary"
           }
          ],
          "surface": [
           {
            "colorbar": {
             "outlinewidth": 1,
             "tickcolor": "rgb(36,36,36)",
             "ticks": "outside"
            },
            "colorscale": [
             [
              0,
              "#440154"
             ],
             [
              0.1111111111111111,
              "#482878"
             ],
             [
              0.2222222222222222,
              "#3e4989"
             ],
             [
              0.3333333333333333,
              "#31688e"
             ],
             [
              0.4444444444444444,
              "#26828e"
             ],
             [
              0.5555555555555556,
              "#1f9e89"
             ],
             [
              0.6666666666666666,
              "#35b779"
             ],
             [
              0.7777777777777778,
              "#6ece58"
             ],
             [
              0.8888888888888888,
              "#b5de2b"
             ],
             [
              1,
              "#fde725"
             ]
            ],
            "type": "surface"
           }
          ],
          "table": [
           {
            "cells": {
             "fill": {
              "color": "rgb(237,237,237)"
             },
             "line": {
              "color": "white"
             }
            },
            "header": {
             "fill": {
              "color": "rgb(217,217,217)"
             },
             "line": {
              "color": "white"
             }
            },
            "type": "table"
           }
          ]
         },
         "layout": {
          "annotationdefaults": {
           "arrowhead": 0,
           "arrowwidth": 1
          },
          "autotypenumbers": "strict",
          "coloraxis": {
           "colorbar": {
            "outlinewidth": 1,
            "tickcolor": "rgb(36,36,36)",
            "ticks": "outside"
           }
          },
          "colorscale": {
           "diverging": [
            [
             0,
             "rgb(103,0,31)"
            ],
            [
             0.1,
             "rgb(178,24,43)"
            ],
            [
             0.2,
             "rgb(214,96,77)"
            ],
            [
             0.3,
             "rgb(244,165,130)"
            ],
            [
             0.4,
             "rgb(253,219,199)"
            ],
            [
             0.5,
             "rgb(247,247,247)"
            ],
            [
             0.6,
             "rgb(209,229,240)"
            ],
            [
             0.7,
             "rgb(146,197,222)"
            ],
            [
             0.8,
             "rgb(67,147,195)"
            ],
            [
             0.9,
             "rgb(33,102,172)"
            ],
            [
             1,
             "rgb(5,48,97)"
            ]
           ],
           "sequential": [
            [
             0,
             "#440154"
            ],
            [
             0.1111111111111111,
             "#482878"
            ],
            [
             0.2222222222222222,
             "#3e4989"
            ],
            [
             0.3333333333333333,
             "#31688e"
            ],
            [
             0.4444444444444444,
             "#26828e"
            ],
            [
             0.5555555555555556,
             "#1f9e89"
            ],
            [
             0.6666666666666666,
             "#35b779"
            ],
            [
             0.7777777777777778,
             "#6ece58"
            ],
            [
             0.8888888888888888,
             "#b5de2b"
            ],
            [
             1,
             "#fde725"
            ]
           ],
           "sequentialminus": [
            [
             0,
             "#440154"
            ],
            [
             0.1111111111111111,
             "#482878"
            ],
            [
             0.2222222222222222,
             "#3e4989"
            ],
            [
             0.3333333333333333,
             "#31688e"
            ],
            [
             0.4444444444444444,
             "#26828e"
            ],
            [
             0.5555555555555556,
             "#1f9e89"
            ],
            [
             0.6666666666666666,
             "#35b779"
            ],
            [
             0.7777777777777778,
             "#6ece58"
            ],
            [
             0.8888888888888888,
             "#b5de2b"
            ],
            [
             1,
             "#fde725"
            ]
           ]
          },
          "colorway": [
           "#1F77B4",
           "#FF7F0E",
           "#2CA02C",
           "#D62728",
           "#9467BD",
           "#8C564B",
           "#E377C2",
           "#7F7F7F",
           "#BCBD22",
           "#17BECF"
          ],
          "font": {
           "color": "rgb(36,36,36)"
          },
          "geo": {
           "bgcolor": "white",
           "lakecolor": "white",
           "landcolor": "white",
           "showlakes": true,
           "showland": true,
           "subunitcolor": "white"
          },
          "hoverlabel": {
           "align": "left"
          },
          "hovermode": "closest",
          "mapbox": {
           "style": "light"
          },
          "paper_bgcolor": "white",
          "plot_bgcolor": "white",
          "polar": {
           "angularaxis": {
            "gridcolor": "rgb(232,232,232)",
            "linecolor": "rgb(36,36,36)",
            "showgrid": false,
            "showline": true,
            "ticks": "outside"
           },
           "bgcolor": "white",
           "radialaxis": {
            "gridcolor": "rgb(232,232,232)",
            "linecolor": "rgb(36,36,36)",
            "showgrid": false,
            "showline": true,
            "ticks": "outside"
           }
          },
          "scene": {
           "xaxis": {
            "backgroundcolor": "white",
            "gridcolor": "rgb(232,232,232)",
            "gridwidth": 2,
            "linecolor": "rgb(36,36,36)",
            "showbackground": true,
            "showgrid": false,
            "showline": true,
            "ticks": "outside",
            "zeroline": false,
            "zerolinecolor": "rgb(36,36,36)"
           },
           "yaxis": {
            "backgroundcolor": "white",
            "gridcolor": "rgb(232,232,232)",
            "gridwidth": 2,
            "linecolor": "rgb(36,36,36)",
            "showbackground": true,
            "showgrid": false,
            "showline": true,
            "ticks": "outside",
            "zeroline": false,
            "zerolinecolor": "rgb(36,36,36)"
           },
           "zaxis": {
            "backgroundcolor": "white",
            "gridcolor": "rgb(232,232,232)",
            "gridwidth": 2,
            "linecolor": "rgb(36,36,36)",
            "showbackground": true,
            "showgrid": false,
            "showline": true,
            "ticks": "outside",
            "zeroline": false,
            "zerolinecolor": "rgb(36,36,36)"
           }
          },
          "shapedefaults": {
           "fillcolor": "black",
           "line": {
            "width": 0
           },
           "opacity": 0.3
          },
          "ternary": {
           "aaxis": {
            "gridcolor": "rgb(232,232,232)",
            "linecolor": "rgb(36,36,36)",
            "showgrid": false,
            "showline": true,
            "ticks": "outside"
           },
           "baxis": {
            "gridcolor": "rgb(232,232,232)",
            "linecolor": "rgb(36,36,36)",
            "showgrid": false,
            "showline": true,
            "ticks": "outside"
           },
           "bgcolor": "white",
           "caxis": {
            "gridcolor": "rgb(232,232,232)",
            "linecolor": "rgb(36,36,36)",
            "showgrid": false,
            "showline": true,
            "ticks": "outside"
           }
          },
          "title": {
           "x": 0.05
          },
          "xaxis": {
           "automargin": true,
           "gridcolor": "rgb(232,232,232)",
           "linecolor": "rgb(36,36,36)",
           "showgrid": false,
           "showline": true,
           "ticks": "outside",
           "title": {
            "standoff": 15
           },
           "zeroline": false,
           "zerolinecolor": "rgb(36,36,36)"
          },
          "yaxis": {
           "automargin": true,
           "gridcolor": "rgb(232,232,232)",
           "linecolor": "rgb(36,36,36)",
           "showgrid": false,
           "showline": true,
           "ticks": "outside",
           "title": {
            "standoff": 15
           },
           "zeroline": false,
           "zerolinecolor": "rgb(36,36,36)"
          }
         }
        },
        "title": {
         "text": "Monthly Spending by Department"
        },
        "xaxis": {
         "anchor": "y",
         "domain": [
          0,
          1
         ],
         "tickformat": "%Y-%m",
         "title": {
          "text": "Year-Month"
         }
        },
        "yaxis": {
         "anchor": "x",
         "domain": [
          0,
          1
         ],
         "tickformat": ",.0f",
         "tickprefix": "$",
         "title": {
          "text": "Total Amount Spent"
         }
        }
       }
      }
     },
     "metadata": {},
     "output_type": "display_data"
    }
   ],
   "source": [
    "fig = px.line(\n",
    "    query_department_monthly_spending.df(),\n",
    "    x=\"year_month\",\n",
    "    y=\"total_amount\",\n",
    "    color=\"department\",\n",
    "    template=\"simple_white\",\n",
    "    title=\"Monthly Spending by Department\",\n",
    ")\n",
    "\n",
    "fig.update_layout(\n",
    "    xaxis_title=\"Year-Month\",\n",
    "    yaxis_title=\"Total Amount Spent\",\n",
    "    xaxis_tickformat=\"%Y-%m\",\n",
    "    yaxis_tickprefix=\"$\",\n",
    "    yaxis_tickformat=\",.0f\",\n",
    "    showlegend=False,\n",
    ")\n",
    "\n",
    "# fig.write_image(\"chart.png\", width=1000, height=600)\n",
    "\n",
    "fig.show()"
   ]
  },
  {
   "cell_type": "code",
   "execution_count": 13,
   "id": "9784cadf",
   "metadata": {},
   "outputs": [
    {
     "data": {
      "text/plain": [
       "'5.24.1'"
      ]
     },
     "execution_count": 13,
     "metadata": {},
     "output_type": "execute_result"
    }
   ],
   "source": [
    "import plotly\n",
    "\n",
    "plotly.__version__"
   ]
  }
 ],
 "metadata": {
  "kernelspec": {
   "display_name": "gies",
   "language": "python",
   "name": "python3"
  },
  "language_info": {
   "codemirror_mode": {
    "name": "ipython",
    "version": 3
   },
   "file_extension": ".py",
   "mimetype": "text/x-python",
   "name": "python",
   "nbconvert_exporter": "python",
   "pygments_lexer": "ipython3",
   "version": "3.13.0"
  }
 },
 "nbformat": 4,
 "nbformat_minor": 5
}
