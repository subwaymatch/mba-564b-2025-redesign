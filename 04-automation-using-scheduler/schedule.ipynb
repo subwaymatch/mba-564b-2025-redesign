{
 "cells": [
  {
   "cell_type": "markdown",
   "id": "4878b033-f52f-42bc-818a-44b058958bc2",
   "metadata": {},
   "source": [
    "# Checking Airbnb Availability Using Scheduler\n"
   ]
  },
  {
   "cell_type": "code",
   "execution_count": null,
   "id": "ce8a2190",
   "metadata": {},
   "outputs": [],
   "source": [
    "%pip install schedule"
   ]
  },
  {
   "cell_type": "code",
   "execution_count": 1,
   "id": "893ab040-d421-4580-a89f-df1ba62d3fb2",
   "metadata": {},
   "outputs": [],
   "source": [
    "import pandas as pd\n",
    "import numpy as np"
   ]
  },
  {
   "cell_type": "code",
   "execution_count": null,
   "id": "69ce2e3b",
   "metadata": {},
   "outputs": [],
   "source": [
    "pd.set_option(\"display.max_columns\", 50)"
   ]
  },
  {
   "cell_type": "code",
   "execution_count": 13,
   "id": "3c7a5ca5",
   "metadata": {},
   "outputs": [
    {
     "name": "stdout",
     "output_type": "stream",
     "text": [
      "Shape of listings: (8748, 18)\n"
     ]
    },
    {
     "data": {
      "text/html": [
       "<div>\n",
       "<style scoped>\n",
       "    .dataframe tbody tr th:only-of-type {\n",
       "        vertical-align: middle;\n",
       "    }\n",
       "\n",
       "    .dataframe tbody tr th {\n",
       "        vertical-align: top;\n",
       "    }\n",
       "\n",
       "    .dataframe thead th {\n",
       "        text-align: right;\n",
       "    }\n",
       "</style>\n",
       "<table border=\"1\" class=\"dataframe\">\n",
       "  <thead>\n",
       "    <tr style=\"text-align: right;\">\n",
       "      <th></th>\n",
       "      <th>id</th>\n",
       "      <th>name</th>\n",
       "      <th>host_id</th>\n",
       "      <th>host_name</th>\n",
       "      <th>neighbourhood_group</th>\n",
       "      <th>neighbourhood</th>\n",
       "      <th>latitude</th>\n",
       "      <th>longitude</th>\n",
       "      <th>room_type</th>\n",
       "      <th>price</th>\n",
       "      <th>minimum_nights</th>\n",
       "      <th>number_of_reviews</th>\n",
       "      <th>last_review</th>\n",
       "      <th>reviews_per_month</th>\n",
       "      <th>calculated_host_listings_count</th>\n",
       "      <th>availability_365</th>\n",
       "      <th>number_of_reviews_ltm</th>\n",
       "      <th>license</th>\n",
       "    </tr>\n",
       "  </thead>\n",
       "  <tbody>\n",
       "    <tr>\n",
       "      <th>0</th>\n",
       "      <td>2384</td>\n",
       "      <td>Hyde Park - Walk to University of Chicago</td>\n",
       "      <td>2613</td>\n",
       "      <td>Rebecca</td>\n",
       "      <td>NaN</td>\n",
       "      <td>Hyde Park</td>\n",
       "      <td>41.78790</td>\n",
       "      <td>-87.58780</td>\n",
       "      <td>Private room</td>\n",
       "      <td>125.0</td>\n",
       "      <td>3</td>\n",
       "      <td>250</td>\n",
       "      <td>2024-10-14</td>\n",
       "      <td>2.02</td>\n",
       "      <td>1</td>\n",
       "      <td>343</td>\n",
       "      <td>16</td>\n",
       "      <td>R17000015609</td>\n",
       "    </tr>\n",
       "    <tr>\n",
       "      <th>1</th>\n",
       "      <td>7126</td>\n",
       "      <td>Tiny Studio Apartment 94 Walk Score</td>\n",
       "      <td>17928</td>\n",
       "      <td>Sarah</td>\n",
       "      <td>NaN</td>\n",
       "      <td>West Town</td>\n",
       "      <td>41.90166</td>\n",
       "      <td>-87.68021</td>\n",
       "      <td>Entire home/apt</td>\n",
       "      <td>81.0</td>\n",
       "      <td>2</td>\n",
       "      <td>569</td>\n",
       "      <td>2025-02-09</td>\n",
       "      <td>2.98</td>\n",
       "      <td>1</td>\n",
       "      <td>275</td>\n",
       "      <td>53</td>\n",
       "      <td>R24000114046</td>\n",
       "    </tr>\n",
       "    <tr>\n",
       "      <th>2</th>\n",
       "      <td>10945</td>\n",
       "      <td>The Biddle House (#1)</td>\n",
       "      <td>33004</td>\n",
       "      <td>At Home Inn</td>\n",
       "      <td>NaN</td>\n",
       "      <td>Lincoln Park</td>\n",
       "      <td>41.91196</td>\n",
       "      <td>-87.63981</td>\n",
       "      <td>Entire home/apt</td>\n",
       "      <td>187.0</td>\n",
       "      <td>4</td>\n",
       "      <td>117</td>\n",
       "      <td>2025-01-02</td>\n",
       "      <td>0.88</td>\n",
       "      <td>6</td>\n",
       "      <td>260</td>\n",
       "      <td>34</td>\n",
       "      <td>2209984</td>\n",
       "    </tr>\n",
       "  </tbody>\n",
       "</table>\n",
       "</div>"
      ],
      "text/plain": [
       "      id                                       name  host_id    host_name  \\\n",
       "0   2384  Hyde Park - Walk to University of Chicago     2613      Rebecca   \n",
       "1   7126        Tiny Studio Apartment 94 Walk Score    17928        Sarah   \n",
       "2  10945                      The Biddle House (#1)    33004  At Home Inn   \n",
       "\n",
       "   neighbourhood_group neighbourhood  latitude  longitude        room_type  \\\n",
       "0                  NaN     Hyde Park  41.78790  -87.58780     Private room   \n",
       "1                  NaN     West Town  41.90166  -87.68021  Entire home/apt   \n",
       "2                  NaN  Lincoln Park  41.91196  -87.63981  Entire home/apt   \n",
       "\n",
       "   price  minimum_nights  number_of_reviews last_review  reviews_per_month  \\\n",
       "0  125.0               3                250  2024-10-14               2.02   \n",
       "1   81.0               2                569  2025-02-09               2.98   \n",
       "2  187.0               4                117  2025-01-02               0.88   \n",
       "\n",
       "   calculated_host_listings_count  availability_365  number_of_reviews_ltm  \\\n",
       "0                               1               343                     16   \n",
       "1                               1               275                     53   \n",
       "2                               6               260                     34   \n",
       "\n",
       "        license  \n",
       "0  R17000015609  \n",
       "1  R24000114046  \n",
       "2       2209984  "
      ]
     },
     "metadata": {},
     "output_type": "display_data"
    }
   ],
   "source": [
    "df_listings = pd.read_csv(\"data/listings.csv\")\n",
    "print(f\"Shape of listings: {df_listings.shape}\")\n",
    "display(df_listings.head(3))"
   ]
  },
  {
   "cell_type": "code",
   "execution_count": 11,
   "id": "7d509d85",
   "metadata": {},
   "outputs": [
    {
     "name": "stdout",
     "output_type": "stream",
     "text": [
      "Shape of reviews: (463251, 6)\n"
     ]
    },
    {
     "data": {
      "text/html": [
       "<div>\n",
       "<style scoped>\n",
       "    .dataframe tbody tr th:only-of-type {\n",
       "        vertical-align: middle;\n",
       "    }\n",
       "\n",
       "    .dataframe tbody tr th {\n",
       "        vertical-align: top;\n",
       "    }\n",
       "\n",
       "    .dataframe thead th {\n",
       "        text-align: right;\n",
       "    }\n",
       "</style>\n",
       "<table border=\"1\" class=\"dataframe\">\n",
       "  <thead>\n",
       "    <tr style=\"text-align: right;\">\n",
       "      <th></th>\n",
       "      <th>listing_id</th>\n",
       "      <th>id</th>\n",
       "      <th>date</th>\n",
       "      <th>reviewer_id</th>\n",
       "      <th>reviewer_name</th>\n",
       "      <th>comments</th>\n",
       "    </tr>\n",
       "  </thead>\n",
       "  <tbody>\n",
       "    <tr>\n",
       "      <th>0</th>\n",
       "      <td>2384</td>\n",
       "      <td>25218143</td>\n",
       "      <td>2015-01-09</td>\n",
       "      <td>14385014</td>\n",
       "      <td>Ivan</td>\n",
       "      <td>it's a wonderful trip experience. I didn't exc...</td>\n",
       "    </tr>\n",
       "    <tr>\n",
       "      <th>1</th>\n",
       "      <td>2384</td>\n",
       "      <td>28475392</td>\n",
       "      <td>2015-03-24</td>\n",
       "      <td>16241178</td>\n",
       "      <td>Namhaitou</td>\n",
       "      <td>This is my first trip using Airbnb. I was a li...</td>\n",
       "    </tr>\n",
       "    <tr>\n",
       "      <th>2</th>\n",
       "      <td>2384</td>\n",
       "      <td>30974202</td>\n",
       "      <td>2015-04-30</td>\n",
       "      <td>26247321</td>\n",
       "      <td>Cristina</td>\n",
       "      <td>Sólo puedo decir cosas buenas de Rebecca. La h...</td>\n",
       "    </tr>\n",
       "  </tbody>\n",
       "</table>\n",
       "</div>"
      ],
      "text/plain": [
       "   listing_id        id        date  reviewer_id reviewer_name  \\\n",
       "0        2384  25218143  2015-01-09     14385014          Ivan   \n",
       "1        2384  28475392  2015-03-24     16241178     Namhaitou   \n",
       "2        2384  30974202  2015-04-30     26247321      Cristina   \n",
       "\n",
       "                                            comments  \n",
       "0  it's a wonderful trip experience. I didn't exc...  \n",
       "1  This is my first trip using Airbnb. I was a li...  \n",
       "2  Sólo puedo decir cosas buenas de Rebecca. La h...  "
      ]
     },
     "metadata": {},
     "output_type": "display_data"
    }
   ],
   "source": [
    "df_reviews = pd.read_csv(\"data/reviews.csv.gz\")\n",
    "print(f\"Shape of reviews: {df_reviews.shape}\")\n",
    "display(df_reviews.head(3))"
   ]
  },
  {
   "cell_type": "code",
   "execution_count": 14,
   "id": "02f6be7c",
   "metadata": {},
   "outputs": [
    {
     "name": "stdout",
     "output_type": "stream",
     "text": [
      "Shape of calendar: (3187677, 7)\n"
     ]
    },
    {
     "name": "stderr",
     "output_type": "stream",
     "text": [
      "C:\\Users\\Park\\AppData\\Local\\Temp\\ipykernel_35424\\607884794.py:1: DtypeWarning: Columns (4) have mixed types. Specify dtype option on import or set low_memory=False.\n",
      "  df_calendar = pd.read_csv(\"data/calendar.csv.gz\")\n"
     ]
    },
    {
     "data": {
      "text/html": [
       "<div>\n",
       "<style scoped>\n",
       "    .dataframe tbody tr th:only-of-type {\n",
       "        vertical-align: middle;\n",
       "    }\n",
       "\n",
       "    .dataframe tbody tr th {\n",
       "        vertical-align: top;\n",
       "    }\n",
       "\n",
       "    .dataframe thead th {\n",
       "        text-align: right;\n",
       "    }\n",
       "</style>\n",
       "<table border=\"1\" class=\"dataframe\">\n",
       "  <thead>\n",
       "    <tr style=\"text-align: right;\">\n",
       "      <th></th>\n",
       "      <th>listing_id</th>\n",
       "      <th>date</th>\n",
       "      <th>available</th>\n",
       "      <th>price</th>\n",
       "      <th>adjusted_price</th>\n",
       "      <th>minimum_nights</th>\n",
       "      <th>maximum_nights</th>\n",
       "    </tr>\n",
       "  </thead>\n",
       "  <tbody>\n",
       "    <tr>\n",
       "      <th>0</th>\n",
       "      <td>2384</td>\n",
       "      <td>2025-03-15</td>\n",
       "      <td>t</td>\n",
       "      <td>$125.00</td>\n",
       "      <td>NaN</td>\n",
       "      <td>3.0</td>\n",
       "      <td>89.0</td>\n",
       "    </tr>\n",
       "    <tr>\n",
       "      <th>1</th>\n",
       "      <td>2384</td>\n",
       "      <td>2025-03-16</td>\n",
       "      <td>t</td>\n",
       "      <td>$125.00</td>\n",
       "      <td>NaN</td>\n",
       "      <td>3.0</td>\n",
       "      <td>89.0</td>\n",
       "    </tr>\n",
       "    <tr>\n",
       "      <th>2</th>\n",
       "      <td>2384</td>\n",
       "      <td>2025-03-17</td>\n",
       "      <td>t</td>\n",
       "      <td>$125.00</td>\n",
       "      <td>NaN</td>\n",
       "      <td>3.0</td>\n",
       "      <td>89.0</td>\n",
       "    </tr>\n",
       "  </tbody>\n",
       "</table>\n",
       "</div>"
      ],
      "text/plain": [
       "   listing_id        date available    price adjusted_price  minimum_nights  \\\n",
       "0        2384  2025-03-15         t  $125.00            NaN             3.0   \n",
       "1        2384  2025-03-16         t  $125.00            NaN             3.0   \n",
       "2        2384  2025-03-17         t  $125.00            NaN             3.0   \n",
       "\n",
       "   maximum_nights  \n",
       "0            89.0  \n",
       "1            89.0  \n",
       "2            89.0  "
      ]
     },
     "metadata": {},
     "output_type": "display_data"
    }
   ],
   "source": [
    "df_calendar = pd.read_csv(\"data/calendar.csv.gz\")\n",
    "print(f\"Shape of calendar: {df_calendar.shape}\")\n",
    "display(df_calendar.head(3))"
   ]
  }
 ],
 "metadata": {
  "kernelspec": {
   "display_name": "gies",
   "language": "python",
   "name": "python3"
  },
  "language_info": {
   "codemirror_mode": {
    "name": "ipython",
    "version": 3
   },
   "file_extension": ".py",
   "mimetype": "text/x-python",
   "name": "python",
   "nbconvert_exporter": "python",
   "pygments_lexer": "ipython3",
   "version": "3.12.5"
  }
 },
 "nbformat": 4,
 "nbformat_minor": 5
}
