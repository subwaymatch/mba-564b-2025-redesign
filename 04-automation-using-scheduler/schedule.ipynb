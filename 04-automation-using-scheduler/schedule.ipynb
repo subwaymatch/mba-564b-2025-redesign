{
 "cells": [
  {
   "cell_type": "markdown",
   "id": "8fe70a15-6804-45d8-8204-cb71dedc1e24",
   "metadata": {},
   "source": [
    "# Automation using `schedule`\n"
   ]
  },
  {
   "cell_type": "code",
   "execution_count": null,
   "id": "38928b37-f68f-4df4-bcd7-b56ef3521731",
   "metadata": {},
   "outputs": [],
   "source": [
    "# pip install schedule"
   ]
  },
  {
   "cell_type": "markdown",
   "id": "e3ab85d9",
   "metadata": {},
   "source": []
  }
 ],
 "metadata": {
  "kernelspec": {
   "display_name": "Python 3 (ipykernel)",
   "language": "python",
   "name": "python3"
  },
  "language_info": {
   "codemirror_mode": {
    "name": "ipython",
    "version": 3
   },
   "file_extension": ".py",
   "mimetype": "text/x-python",
   "name": "python",
   "nbconvert_exporter": "python",
   "pygments_lexer": "ipython3",
   "version": "3.10.10"
  }
 },
 "nbformat": 4,
 "nbformat_minor": 5
}
